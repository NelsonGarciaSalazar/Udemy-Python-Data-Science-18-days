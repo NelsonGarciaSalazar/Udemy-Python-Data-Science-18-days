{
 "cells": [
  {
   "cell_type": "code",
   "execution_count": 1,
   "id": "ad723f66",
   "metadata": {},
   "outputs": [
    {
     "name": "stdout",
     "output_type": "stream",
     "text": [
      "Python es genial\n",
      "Python es genial\n"
     ]
    }
   ],
   "source": [
    "frase = \"Python es divertido\"\n",
    "frase_modificada = str.replace(frase, \"divertido\", \"genial\")\n",
    "frase_modificada_2 = frase.replace(\"divertido\", \"genial\")\n",
    "print(frase_modificada)\n",
    "print(frase_modificada_2)"
   ]
  },
  {
   "cell_type": "code",
   "execution_count": 2,
   "id": "3e72fa39",
   "metadata": {},
   "outputs": [
    {
     "name": "stdout",
     "output_type": "stream",
     "text": [
      "VNU\n"
     ]
    }
   ],
   "source": [
    "palabra = \"aventura\"\n",
    "print(palabra[1:6:2].upper())"
   ]
  },
  {
   "cell_type": "code",
   "execution_count": 3,
   "id": "66a3c5d3",
   "metadata": {},
   "outputs": [
    {
     "data": {
      "text/plain": [
       "str"
      ]
     },
     "execution_count": 3,
     "metadata": {},
     "output_type": "execute_result"
    }
   ],
   "source": [
    "palabra = \" banana \"\n",
    "type(palabra)"
   ]
  },
  {
   "cell_type": "code",
   "execution_count": 4,
   "id": "d3f000d4",
   "metadata": {},
   "outputs": [
    {
     "data": {
      "text/plain": [
       "['__add__',\n",
       " '__class__',\n",
       " '__contains__',\n",
       " '__delattr__',\n",
       " '__dir__',\n",
       " '__doc__',\n",
       " '__eq__',\n",
       " '__format__',\n",
       " '__ge__',\n",
       " '__getattribute__',\n",
       " '__getitem__',\n",
       " '__getnewargs__',\n",
       " '__getstate__',\n",
       " '__gt__',\n",
       " '__hash__',\n",
       " '__init__',\n",
       " '__init_subclass__',\n",
       " '__iter__',\n",
       " '__le__',\n",
       " '__len__',\n",
       " '__lt__',\n",
       " '__mod__',\n",
       " '__mul__',\n",
       " '__ne__',\n",
       " '__new__',\n",
       " '__reduce__',\n",
       " '__reduce_ex__',\n",
       " '__repr__',\n",
       " '__rmod__',\n",
       " '__rmul__',\n",
       " '__setattr__',\n",
       " '__sizeof__',\n",
       " '__str__',\n",
       " '__subclasshook__',\n",
       " 'capitalize',\n",
       " 'casefold',\n",
       " 'center',\n",
       " 'count',\n",
       " 'encode',\n",
       " 'endswith',\n",
       " 'expandtabs',\n",
       " 'find',\n",
       " 'format',\n",
       " 'format_map',\n",
       " 'index',\n",
       " 'isalnum',\n",
       " 'isalpha',\n",
       " 'isascii',\n",
       " 'isdecimal',\n",
       " 'isdigit',\n",
       " 'isidentifier',\n",
       " 'islower',\n",
       " 'isnumeric',\n",
       " 'isprintable',\n",
       " 'isspace',\n",
       " 'istitle',\n",
       " 'isupper',\n",
       " 'join',\n",
       " 'ljust',\n",
       " 'lower',\n",
       " 'lstrip',\n",
       " 'maketrans',\n",
       " 'partition',\n",
       " 'removeprefix',\n",
       " 'removesuffix',\n",
       " 'replace',\n",
       " 'rfind',\n",
       " 'rindex',\n",
       " 'rjust',\n",
       " 'rpartition',\n",
       " 'rsplit',\n",
       " 'rstrip',\n",
       " 'split',\n",
       " 'splitlines',\n",
       " 'startswith',\n",
       " 'strip',\n",
       " 'swapcase',\n",
       " 'title',\n",
       " 'translate',\n",
       " 'upper',\n",
       " 'zfill']"
      ]
     },
     "execution_count": 4,
     "metadata": {},
     "output_type": "execute_result"
    }
   ],
   "source": [
    "dir(palabra)"
   ]
  },
  {
   "cell_type": "code",
   "execution_count": 5,
   "id": "d6ef66c6",
   "metadata": {},
   "outputs": [
    {
     "name": "stdout",
     "output_type": "stream",
     "text": [
      "Help on built-in function count:\n",
      "\n",
      "count(sub[, start[, end]], /) method of builtins.str instance\n",
      "    Return the number of non-overlapping occurrences of substring sub in string S[start:end].\n",
      "\n",
      "    Optional arguments start and end are interpreted as in slice notation.\n",
      "\n"
     ]
    }
   ],
   "source": [
    "help(palabra.count)"
   ]
  },
  {
   "cell_type": "code",
   "execution_count": 6,
   "id": "c326e95b",
   "metadata": {},
   "outputs": [
    {
     "data": {
      "text/plain": [
       "3"
      ]
     },
     "execution_count": 6,
     "metadata": {},
     "output_type": "execute_result"
    }
   ],
   "source": [
    "palabra.count(\"a\")"
   ]
  },
  {
   "cell_type": "code",
   "execution_count": 7,
   "id": "4b43d5c369fa9423",
   "metadata": {},
   "outputs": [
    {
     "name": "stdout",
     "output_type": "stream",
     "text": [
      " BANANA \n"
     ]
    }
   ],
   "source": [
    "print(palabra.upper())"
   ]
  },
  {
   "cell_type": "code",
   "execution_count": 8,
   "id": "9f16c8a4",
   "metadata": {},
   "outputs": [
    {
     "name": "stdout",
     "output_type": "stream",
     "text": [
      "Aprender Python\n"
     ]
    }
   ],
   "source": [
    "string1 = \"aprender\"\n",
    "string2 = \"python\"\n",
    "resultado = string1.capitalize() + \" \" + string2.capitalize()\n",
    "print(resultado)"
   ]
  },
  {
   "cell_type": "code",
   "execution_count": 9,
   "id": "dbd70245",
   "metadata": {},
   "outputs": [
    {
     "data": {
      "text/plain": [
       "' banana '"
      ]
     },
     "execution_count": 9,
     "metadata": {},
     "output_type": "execute_result"
    }
   ],
   "source": [
    "# Para saber que hace un método me ubico con el mouse encima del método\n",
    "palabra.strip()\n",
    "palabra"
   ]
  },
  {
   "cell_type": "code",
   "execution_count": 10,
   "id": "d9eaf413",
   "metadata": {},
   "outputs": [
    {
     "data": {
      "text/plain": [
       "['estudiar', 'Python', 'es', 'una', 'gran', 'decision']"
      ]
     },
     "execution_count": 10,
     "metadata": {},
     "output_type": "execute_result"
    }
   ],
   "source": [
    "frase = \" estudiar Python es una gran decision \"\n",
    "frase.strip().split(\" \") # return a list [...]"
   ]
  },
  {
   "cell_type": "code",
   "execution_count": 11,
   "id": "4abd6b20",
   "metadata": {},
   "outputs": [
    {
     "name": "stdout",
     "output_type": "stream",
     "text": [
      "7\n",
      "11\n"
     ]
    }
   ],
   "source": [
    "palabra = \"Python es un gran lenguaje de programación para ingenieros de datos\"\n",
    "letra = \"a\"\n",
    "print(palabra.count(letra))\n",
    "\n",
    "lista = palabra.split()\n",
    "print(len(lista))\n"
   ]
  },
  {
   "cell_type": "code",
   "execution_count": 12,
   "id": "8ec5ad7b",
   "metadata": {},
   "outputs": [
    {
     "name": "stdout",
     "output_type": "stream",
     "text": [
      "11\n"
     ]
    }
   ],
   "source": [
    "frase = \" Python es un gran lenguaje de programación para ingenieros de datos \"\n",
    "palabras_en_frase = len(frase.strip().split(\" \"))\n",
    "print(palabras_en_frase)"
   ]
  },
  {
   "cell_type": "code",
   "execution_count": 13,
   "id": "3a016e65dcb80db2",
   "metadata": {},
   "outputs": [
    {
     "name": "stdout",
     "output_type": "stream",
     "text": [
      "Nelson\n"
     ]
    }
   ],
   "source": [
    "nombre = input(\"Escribe tu nombre\")\n",
    "print(nombre)"
   ]
  },
  {
   "metadata": {},
   "cell_type": "code",
   "outputs": [],
   "execution_count": null,
   "source": "",
   "id": "1bf8b1e9eb2d4f60"
  },
  {
   "cell_type": "code",
   "execution_count": 14,
   "id": "7321b75ca86392bb",
   "metadata": {},
   "outputs": [
    {
     "name": "stdout",
     "output_type": "stream",
     "text": [
      "62.137100000000004\n"
     ]
    }
   ],
   "source": [
    "km = float(input(\"Introduce la cantidad de Kilómetros recorridos:\"))\n",
    "millas = km * 0.621371\n",
    "print(millas)"
   ]
  },
  {
   "cell_type": "markdown",
   "id": "437ea399ec48ec11",
   "metadata": {},
   "source": [
    "#### Listas [...]\n",
    "Son mutables - No tiene orden - Pueden recibir cualquier tipo de dato"
   ]
  },
  {
   "cell_type": "code",
   "execution_count": 15,
   "id": "d8f85bcec7a0455d",
   "metadata": {},
   "outputs": [
    {
     "name": "stdout",
     "output_type": "stream",
     "text": [
      "[1, 2, 3, 4, 5]\n",
      "[1, 2, 3, 4, 5, 6]\n",
      "[2, 3, 4, 5, 6]\n",
      "[3, 4, 5, 6]\n",
      "[3, 7, 4, 5, 6]\n",
      "[3, 4, 5, 6, 7]\n"
     ]
    }
   ],
   "source": [
    "numbers = [1, 2, 3, 4, 5]\n",
    "print(numbers)\n",
    "\n",
    "numbers.append(6)\n",
    "print(numbers)\n",
    "\n",
    "del numbers[0]\n",
    "print(numbers)\n",
    "\n",
    "numbers.pop(0)\n",
    "print(numbers)\n",
    "\n",
    "numbers.insert(1, 7)\n",
    "print(numbers)\n",
    "\n",
    "numbers.sort()\n",
    "print(numbers)"
   ]
  },
  {
   "cell_type": "code",
   "execution_count": 16,
   "id": "7a4a3c4379d51f4c",
   "metadata": {},
   "outputs": [
    {
     "name": "stdout",
     "output_type": "stream",
     "text": [
      "[1, 2, 3, 4, 5, 6]\n",
      "[1, 2, 3, 1, 2, 3, 1, 2, 3]\n",
      "[2, 3, 4]\n"
     ]
    }
   ],
   "source": [
    "# Operations\n",
    "lista1 = [1, 2, 3]\n",
    "lista2 = [4, 5, 6]\n",
    "\n",
    "combinada = lista1 + lista2\n",
    "print(combinada)\n",
    "\n",
    "repetida = lista1 * 3\n",
    "print(repetida)\n",
    "\n",
    "sublista = combinada[1:4]\n",
    "print(sublista)"
   ]
  },
  {
   "cell_type": "markdown",
   "id": "ec615b160d295135",
   "metadata": {},
   "source": [
    "#### Tuplas(...)\n",
    "Ordenas - No modificables - Solo un tipo de dato"
   ]
  },
  {
   "cell_type": "code",
   "execution_count": 17,
   "id": "bc6714e58ab98465",
   "metadata": {},
   "outputs": [
    {
     "name": "stdout",
     "output_type": "stream",
     "text": [
      "2\n"
     ]
    }
   ],
   "source": [
    "mi_primera_tupla = (\"Nelson\", 2, 2.45)\n",
    "print(mi_primera_tupla[1])\n"
   ]
  },
  {
   "cell_type": "code",
   "execution_count": 18,
   "id": "ac3654d7c83318a1",
   "metadata": {},
   "outputs": [
    {
     "name": "stdout",
     "output_type": "stream",
     "text": [
      "Maria es Ingeniera\n"
     ]
    }
   ],
   "source": [
    "datos_personales = (\"Maria\", \"Perez\", 35, \"Ingeniera\")\n",
    "nombre = datos_personales[0]\n",
    "profesion = datos_personales[-1]\n",
    "datos_personales = nombre + \" es \" + profesion\n",
    "print(datos_personales)\n"
   ]
  },
  {
   "cell_type": "code",
   "execution_count": 19,
   "id": "39d180ea9b94fa47",
   "metadata": {},
   "outputs": [
    {
     "name": "stdout",
     "output_type": "stream",
     "text": [
      "La ciudad de Buenos Aires en Argentina tiene una población de 3000000 habitantes\n",
      "La ciudad de Madrid en España tiene una población de 3200000 habitantes\n",
      "La ciudad de Tokio en Japón tiene una población de 13929286 habitantes\n"
     ]
    }
   ],
   "source": [
    "info_ciudades = ((\"Buenos Aires\", 3000000, \"Argentina\"), (\"Madrid\", 3200000, \"España\"), (\"Tokio\", 13929286, \"Japón\"))\n",
    "print(f\"La ciudad de {info_ciudades[0][0]} en {info_ciudades[0][-1]} tiene una población de {info_ciudades[0][1]} habitantes\")\n",
    "print(f\"La ciudad de {info_ciudades[1][0]} en {info_ciudades[1][-1]} tiene una población de {info_ciudades[1][1]} habitantes\")\n",
    "print(f\"La ciudad de {info_ciudades[2][0]} en {info_ciudades[2][-1]} tiene una población de {info_ciudades[2][1]} habitantes\")"
   ]
  },
  {
   "cell_type": "markdown",
   "id": "2f8b209b5c7cc44a",
   "metadata": {},
   "source": [
    "#### Diccionarios {...}\n",
    "Clave: Valor - No se puede repetir la clave - Ordenada"
   ]
  },
  {
   "cell_type": "code",
   "execution_count": 20,
   "id": "2b0e6070d41638bc",
   "metadata": {},
   "outputs": [
    {
     "name": "stdout",
     "output_type": "stream",
     "text": [
      "32\n",
      "29\n",
      "{'Juan': 29, 'Elena': 32, 'Marcos': 17, 'Luisa': 25}\n"
     ]
    }
   ],
   "source": [
    "edades = {\"Juan\": 28, \"Elena\": 32, \"Marcos\": 17}\n",
    "print(edades[\"Elena\"])\n",
    "\n",
    "edades[\"Juan\"] = 29\n",
    "print(edades[\"Juan\"])\n",
    "\n",
    "edades[\"Luisa\"] = 25\n",
    "print(edades)"
   ]
  },
  {
   "cell_type": "code",
   "execution_count": 21,
   "id": "cf59efa9f6d00cdd",
   "metadata": {},
   "outputs": [
    {
     "name": "stdout",
     "output_type": "stream",
     "text": [
      "dict_keys(['manzana', 'banana', 'cereza'])\n",
      "dict_values([0.4, 0.5, 0.8])\n",
      "{'manzana': 0.4, 'banana': 0.5, 'cereza': 0.8, 'naranja': 0.6}\n",
      "{'manzana': 0.4, 'banana': 0.75, 'cereza': 0.8, 'naranja': 0.6}\n",
      "dict_keys(['manzana', 'banana', 'cereza', 'naranja']) dict_values([0.4, 0.75, 0.8, 0.6])\n"
     ]
    }
   ],
   "source": [
    "productos = {\"manzana\": 0.40, \"banana\": 0.50, \"cereza\": 0.80}\n",
    "keys = productos.keys()\n",
    "print(keys)\n",
    "\n",
    "values = productos.values()\n",
    "print(values)\n",
    "\n",
    "productos[\"naranja\"] = 0.60\n",
    "print(productos)\n",
    "\n",
    "productos.update({\"banana\": 0.75})\n",
    "print(productos)\n",
    "\n",
    "print(productos.keys(), productos.values())"
   ]
  },
  {
   "cell_type": "markdown",
   "id": "3ff506a20ea00c48",
   "metadata": {},
   "source": [
    "#### Estructura IF / ElSE / ELIF"
   ]
  },
  {
   "cell_type": "code",
   "execution_count": 22,
   "id": "b57df1c440c66c81",
   "metadata": {
    "ExecuteTime": {
     "end_time": "2025-05-13T21:09:16.246616Z",
     "start_time": "2025-05-13T21:09:16.234797Z"
    }
   },
   "outputs": [
    {
     "name": "stdout",
     "output_type": "stream",
     "text": [
      "Tienes 44 años. Eres mayor de edad\n"
     ]
    }
   ],
   "source": [
    "edad = 44\n",
    "if edad > 18:\n",
    "    print(f\"Tienes {edad} años. Eres mayor de edad\")"
   ]
  },
  {
   "cell_type": "code",
   "execution_count": 23,
   "id": "59497b67b34329cc",
   "metadata": {
    "ExecuteTime": {
     "end_time": "2025-05-13T21:16:39.001418Z",
     "start_time": "2025-05-13T21:16:38.998571Z"
    }
   },
   "outputs": [
    {
     "name": "stdout",
     "output_type": "stream",
     "text": [
      "Juan está en mi grupo de amigos\n"
     ]
    }
   ],
   "source": [
    "amigos = [\"Juan\", \"Ana\", \"Laura\"]\n",
    "nombre = 'Juan'\n",
    "\n",
    "if nombre in amigos:\n",
    "    print(f\"{nombre} está en mi grupo de amigos\")"
   ]
  },
  {
   "cell_type": "code",
   "execution_count": 24,
   "id": "9b9bfeb8bf245808",
   "metadata": {
    "ExecuteTime": {
     "end_time": "2025-05-13T21:24:32.507414Z",
     "start_time": "2025-05-13T21:24:32.504622Z"
    }
   },
   "outputs": [
    {
     "name": "stdout",
     "output_type": "stream",
     "text": [
      "Tienes 44 años, eres mayor de edad\n"
     ]
    }
   ],
   "source": [
    "edad = 44\n",
    "\n",
    "if edad >= 18:\n",
    "    print(f\"Tienes {edad} años, eres mayor de edad\")\n",
    "else:\n",
    "    print(f\"Tienes {edad} años, eres menor de edad\")"
   ]
  },
  {
   "cell_type": "code",
   "execution_count": 25,
   "id": "7d8089b6343c4285",
   "metadata": {
    "ExecuteTime": {
     "end_time": "2025-05-13T21:38:14.503834Z",
     "start_time": "2025-05-13T21:38:14.500655Z"
    }
   },
   "outputs": [
    {
     "name": "stdout",
     "output_type": "stream",
     "text": [
      "Calificación no válida\n"
     ]
    }
   ],
   "source": [
    "calificacion = -1\n",
    "\n",
    "if 0 <= calificacion < 5:\n",
    "    print(\"Insuficiente\")\n",
    "elif 5 <= calificacion < 6:\n",
    "    print(\"Aprobado\")\n",
    "elif 6 <= calificacion < 9:\n",
    "    print(\"Notable\")\n",
    "elif 9 <= calificacion <= 10:\n",
    "    print(\"Sobresaliente\")\n",
    "else:\n",
    "    print(\"Calificación no válida\")"
   ]
  },
  {
   "cell_type": "code",
   "execution_count": 26,
   "id": "6ddb650610548e39",
   "metadata": {
    "ExecuteTime": {
     "end_time": "2025-05-13T21:57:31.379007Z",
     "start_time": "2025-05-13T21:57:31.375672Z"
    }
   },
   "outputs": [
    {
     "name": "stdout",
     "output_type": "stream",
     "text": [
      "2 3 4\n"
     ]
    }
   ],
   "source": [
    "x1 = 4\n",
    "x2 = 2\n",
    "x3 = 3\n",
    "\n",
    "if (x1 > x2) and (x1 > x3) and (x2 > x3):\n",
    "    print(x3, x2, x1)\n",
    "elif (x2 > x1) and (x2 > x3) and (x3 > x1):\n",
    "    print(x3, x1, x2)\n",
    "elif (x3 > x1) and (x3 > x2) and (x2 > x1):\n",
    "    print(x1, x2, x3)\n",
    "else:\n",
    "    print(x2, x3, x1)"
   ]
  },
  {
   "cell_type": "markdown",
   "id": "49e775487338e97b",
   "metadata": {},
   "source": [
    "#### For item in object"
   ]
  },
  {
   "cell_type": "code",
   "execution_count": 27,
   "id": "4ad5f0d324105405",
   "metadata": {},
   "outputs": [
    {
     "name": "stdout",
     "output_type": "stream",
     "text": [
      "1\n",
      "2\n",
      "3\n",
      "4\n",
      "5\n"
     ]
    }
   ],
   "source": [
    "numeros = [1, 2, 3, 4, 5]\n",
    "for numero in numeros:\n",
    "    print(numero)"
   ]
  },
  {
   "cell_type": "code",
   "execution_count": 28,
   "id": "64f51126",
   "metadata": {},
   "outputs": [
    {
     "name": "stdout",
     "output_type": "stream",
     "text": [
      "Francia contiene la letra 'a'\n",
      "Alemania contiene la letra 'a'\n",
      "España contiene la letra 'a'\n",
      "Italia contiene la letra 'a'\n"
     ]
    }
   ],
   "source": [
    "paises = ['Francia', 'Alemania', 'España', 'Italia', 'Chile']\n",
    "\n",
    "for pais in paises:\n",
    "    if 'a' in pais:\n",
    "        print(f\"{pais} contiene la letra 'a'\")"
   ]
  },
  {
   "cell_type": "code",
   "execution_count": 29,
   "id": "a47f5c7e",
   "metadata": {},
   "outputs": [
    {
     "name": "stdout",
     "output_type": "stream",
     "text": [
      "camisa rojo\n",
      "pantalones rojo\n",
      "sombrero rojo\n",
      "camisa azul\n",
      "pantalones azul\n",
      "sombrero azul\n",
      "camisa verde\n",
      "pantalones verde\n",
      "sombrero verde\n"
     ]
    }
   ],
   "source": [
    "colores = ['rojo', 'azul', 'verde']\n",
    "prendas = ['camisa', 'pantalones', 'sombrero']\n",
    "\n",
    "for color in colores:\n",
    "    for prenda in prendas:\n",
    "        print(f\"{prenda} {color}\")"
   ]
  },
  {
   "cell_type": "markdown",
   "id": "7251e354",
   "metadata": {},
   "source": [
    "#### Range()\n",
    "Puedo crear diferentes rangos de números o variables para iterar con ellos"
   ]
  },
  {
   "cell_type": "code",
   "execution_count": 30,
   "id": "aa2ce57b",
   "metadata": {},
   "outputs": [
    {
     "name": "stdout",
     "output_type": "stream",
     "text": [
      "2\n",
      "4\n",
      "6\n",
      "8\n",
      "10\n",
      "12\n",
      "14\n",
      "16\n",
      "18\n",
      "20\n"
     ]
    }
   ],
   "source": [
    "rango_numeros_pares = range(2, 22, 2)\n",
    "for numero in rango_numeros_pares:\n",
    "    print(numero)"
   ]
  },
  {
   "cell_type": "code",
   "execution_count": 31,
   "id": "51538c28",
   "metadata": {},
   "outputs": [
    {
     "name": "stdout",
     "output_type": "stream",
     "text": [
      "La suma de todos los números del 1 al 100 es: 5050\n"
     ]
    }
   ],
   "source": [
    "suma = 0\n",
    "for numero in range(1, 101):\n",
    "    suma += numero\n",
    "print(f\"La suma de todos los números del 1 al 100 es: {suma}\")\n"
   ]
  },
  {
   "cell_type": "code",
   "execution_count": 32,
   "id": "76472731",
   "metadata": {},
   "outputs": [
    {
     "name": "stdout",
     "output_type": "stream",
     "text": [
      "Índice 0: a\n",
      "Índice 1: p\n",
      "Índice 2: r\n",
      "Índice 3: e\n",
      "Índice 4: n\n",
      "Índice 5: d\n",
      "Índice 6: i\n",
      "Índice 7: z\n",
      "Índice 8: a\n",
      "Índice 9: j\n",
      "Índice 10: e\n"
     ]
    }
   ],
   "source": [
    "cadena = \"aprendizaje\"\n",
    "for n in range(len(cadena)):\n",
    "    print(f\"Índice {n}: {cadena[n]}\")"
   ]
  },
  {
   "cell_type": "markdown",
   "id": "a424552c",
   "metadata": {},
   "source": [
    "#### While\n",
    "break\n",
    "continue"
   ]
  },
  {
   "cell_type": "code",
   "execution_count": 33,
   "id": "656f8519",
   "metadata": {},
   "outputs": [
    {
     "name": "stdout",
     "output_type": "stream",
     "text": [
      "1\n",
      "2\n",
      "3\n",
      "4\n",
      "5\n"
     ]
    }
   ],
   "source": [
    "contador = 1\n",
    "while contador <= 5:\n",
    "    print(contador)\n",
    "    contador += 1"
   ]
  },
  {
   "cell_type": "code",
   "execution_count": 34,
   "id": "32a899e4",
   "metadata": {},
   "outputs": [
    {
     "name": "stdout",
     "output_type": "stream",
     "text": [
      "0\n",
      "1\n",
      "2\n",
      "3\n",
      "4\n",
      "6\n",
      "7\n",
      "8\n",
      "9\n",
      "11\n",
      "12\n",
      "13\n",
      "14\n",
      "15\n"
     ]
    }
   ],
   "source": [
    "contador = 0\n",
    "\n",
    "while contador <= 15:\n",
    "    if contador == 5 or contador == 10:\n",
    "        contador += 1     # Aseguramos incremento ANTES del continue\n",
    "        continue\n",
    "    print(contador)\n",
    "    contador += 1"
   ]
  },
  {
   "cell_type": "code",
   "execution_count": 35,
   "id": "231c52a9",
   "metadata": {},
   "outputs": [
    {
     "name": "stdout",
     "output_type": "stream",
     "text": [
      "1\n",
      "2\n",
      "3\n",
      "4\n"
     ]
    }
   ],
   "source": [
    "contador = 0\n",
    "while contador <= 10:\n",
    "    contador += 1\n",
    "    print(contador)\n",
    "    \n",
    "    if (contador % 4) == 0:\n",
    "        break"
   ]
  },
  {
   "cell_type": "markdown",
   "id": "682bf14f",
   "metadata": {},
   "source": [
    "#### Functions"
   ]
  },
  {
   "cell_type": "code",
   "execution_count": 36,
   "id": "053ab9d5",
   "metadata": {},
   "outputs": [
    {
     "name": "stdout",
     "output_type": "stream",
     "text": [
      "¡Hola Nelson!\n"
     ]
    }
   ],
   "source": [
    "def solicitar_nombre() -> str:\n",
    "    return input(\"Introduce tu nombre: \")    \n",
    "\n",
    "def saludar():\n",
    "    print(f\"¡Hola {solicitar_nombre()}!\")\n",
    "\n",
    "saludar()"
   ]
  },
  {
   "cell_type": "code",
   "execution_count": 37,
   "id": "38fdfc7c",
   "metadata": {},
   "outputs": [
    {
     "name": "stdout",
     "output_type": "stream",
     "text": [
      "La suma es 5\n"
     ]
    }
   ],
   "source": [
    "def pedir_numeros() -> tuple:\n",
    "     num1 = int(input(\"Introduce un número: \"))\n",
    "     num2 = int(input(\"Introduce otro número: \"))\n",
    "     return num1, num2\n",
    "\n",
    "def sumar() -> str:\n",
    "    num1, num2 = pedir_numeros()\n",
    "    print(f\"La suma es {num1 + num2}\")\n",
    "\n",
    "sumar()  "
   ]
  },
  {
   "cell_type": "code",
   "execution_count": 38,
   "id": "e164459e",
   "metadata": {},
   "outputs": [
    {
     "name": "stdout",
     "output_type": "stream",
     "text": [
      "El factorial de 2 es 2\n"
     ]
    }
   ],
   "source": [
    "def solicitar_numero():\n",
    "    return int(input(\"Ingrese un número entero positivo: \"))\n",
    "\n",
    "def calcular_factorial(numero: int) -> int:\n",
    "    factorial = 1\n",
    "    for i in range(1, numero + 1):\n",
    "        factorial *= i\n",
    "    return factorial\n",
    "\n",
    "def mostrar_resultado():\n",
    "    numero = solicitar_numero()\n",
    "    resultado = calcular_factorial(numero)\n",
    "    print(f\"El factorial de {numero} es {resultado}\")\n",
    "\n",
    "mostrar_resultado()"
   ]
  },
  {
   "metadata": {},
   "cell_type": "code",
   "outputs": [],
   "execution_count": null,
   "source": "",
   "id": "39f2b6dc2dade711"
  }
 ],
 "metadata": {
  "kernelspec": {
   "display_name": "Python 3",
   "language": "python",
   "name": "python3"
  },
  "language_info": {
   "codemirror_mode": {
    "name": "ipython",
    "version": 3
   },
   "file_extension": ".py",
   "mimetype": "text/x-python",
   "name": "python",
   "nbconvert_exporter": "python",
   "pygments_lexer": "ipython3",
   "version": "3.13.3"
  }
 },
 "nbformat": 4,
 "nbformat_minor": 5
}
