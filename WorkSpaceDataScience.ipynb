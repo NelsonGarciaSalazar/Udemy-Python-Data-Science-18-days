{
 "cells": [
  {
   "cell_type": "markdown",
   "id": "edaccacc",
   "metadata": {},
   "source": [
    "### PANDAS"
   ]
  },
  {
   "cell_type": "code",
   "id": "46a5c116",
   "metadata": {
    "ExecuteTime": {
     "end_time": "2025-05-15T17:02:08.802669Z",
     "start_time": "2025-05-15T17:02:08.797328Z"
    }
   },
   "source": [
    "import pandas as pd\n",
    "import numpy as np\n",
    "import matplotlib.pyplot as plt"
   ],
   "outputs": [],
   "execution_count": 8
  },
  {
   "cell_type": "code",
   "id": "daebfa65",
   "metadata": {
    "ExecuteTime": {
     "end_time": "2025-05-15T17:21:47.370130Z",
     "start_time": "2025-05-15T17:21:47.365513Z"
    }
   },
   "source": [
    "datos = {\n",
    "    \"nombre\": [\"Ana\", \"Luis\", \"Carlos\"],\n",
    "    \"edad\": [30, 25, 40]\n",
    "}\n",
    "\n",
    "df = pd.DataFrame(datos)\n",
    "display(df)\n"
   ],
   "outputs": [
    {
     "name": "stdout",
     "output_type": "stream",
     "text": [
      "   nombre  edad\n",
      "0     Ana    30\n",
      "1    Luis    25\n",
      "2  Carlos    40\n"
     ]
    }
   ],
   "execution_count": 13
  },
  {
   "cell_type": "code",
   "id": "69ffd5bf",
   "metadata": {
    "ExecuteTime": {
     "end_time": "2025-05-15T17:09:50.910333Z",
     "start_time": "2025-05-15T17:09:50.905946Z"
    }
   },
   "source": "type(df)",
   "outputs": [
    {
     "data": {
      "text/plain": [
       "pandas.core.frame.DataFrame"
      ]
     },
     "execution_count": 11,
     "metadata": {},
     "output_type": "execute_result"
    }
   ],
   "execution_count": 11
  },
  {
   "metadata": {},
   "cell_type": "code",
   "outputs": [],
   "execution_count": null,
   "source": "",
   "id": "25fac040c1d94ac7"
  }
 ],
 "metadata": {
  "kernelspec": {
   "display_name": "venv",
   "language": "python",
   "name": "python3"
  },
  "language_info": {
   "codemirror_mode": {
    "name": "ipython",
    "version": 3
   },
   "file_extension": ".py",
   "mimetype": "text/x-python",
   "name": "python",
   "nbconvert_exporter": "python",
   "pygments_lexer": "ipython3",
   "version": "3.13.3"
  }
 },
 "nbformat": 4,
 "nbformat_minor": 5
}
