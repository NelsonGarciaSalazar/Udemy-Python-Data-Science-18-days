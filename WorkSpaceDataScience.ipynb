{
 "cells": [
  {
   "cell_type": "markdown",
   "id": "edaccacc",
   "metadata": {},
   "source": [
    "### PANDAS"
   ]
  },
  {
   "cell_type": "code",
   "id": "46a5c116",
   "metadata": {
    "ExecuteTime": {
     "end_time": "2025-05-15T13:21:55.599607Z",
     "start_time": "2025-05-15T13:21:54.778341Z"
    }
   },
   "source": [
    "import pandas as pd\n",
    "import numpy as np\n",
    "import matplotlib.pyplot as plt"
   ],
   "outputs": [],
   "execution_count": 1
  },
  {
   "cell_type": "code",
   "id": "daebfa65",
   "metadata": {
    "ExecuteTime": {
     "end_time": "2025-05-15T13:21:56.026550Z",
     "start_time": "2025-05-15T13:21:56.019787Z"
    }
   },
   "source": [
    "datos = {\"nombre\": [\"Juan\", \"Ana\", \"Pedro\", \"Maria\"], \"edad\": [23, 45, 34, 29]}\n",
    "df = pd.DataFrame(datos)\n",
    "print(df)\n"
   ],
   "outputs": [
    {
     "name": "stdout",
     "output_type": "stream",
     "text": [
      "  nombre  edad\n",
      "0   Juan    23\n",
      "1    Ana    45\n",
      "2  Pedro    34\n",
      "3  Maria    29\n"
     ]
    }
   ],
   "execution_count": 2
  },
  {
   "cell_type": "code",
   "id": "69ffd5bf",
   "metadata": {
    "ExecuteTime": {
     "end_time": "2025-05-15T13:21:56.157987Z",
     "start_time": "2025-05-15T13:21:56.156131Z"
    }
   },
   "source": [],
   "outputs": [],
   "execution_count": null
  }
 ],
 "metadata": {
  "kernelspec": {
   "display_name": "venv",
   "language": "python",
   "name": "python3"
  },
  "language_info": {
   "codemirror_mode": {
    "name": "ipython",
    "version": 3
   },
   "file_extension": ".py",
   "mimetype": "text/x-python",
   "name": "python",
   "nbconvert_exporter": "python",
   "pygments_lexer": "ipython3",
   "version": "3.13.3"
  }
 },
 "nbformat": 4,
 "nbformat_minor": 5
}
