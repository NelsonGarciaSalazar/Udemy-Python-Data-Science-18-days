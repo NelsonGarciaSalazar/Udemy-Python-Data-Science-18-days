{
 "cells": [
  {
   "metadata": {},
   "cell_type": "markdown",
   "source": "### Data Frames",
   "id": "f4595ea5bb9f7c89"
  },
  {
   "cell_type": "code",
   "id": "46a5c116",
   "metadata": {
    "ExecuteTime": {
     "end_time": "2025-08-02T14:55:57.489332Z",
     "start_time": "2025-08-02T14:55:55.777421Z"
    }
   },
   "source": [
    "import pandas as pd\n",
    "import numpy as np\n",
    "import matplotlib.pyplot as plt"
   ],
   "outputs": [],
   "execution_count": 1
  },
  {
   "metadata": {
    "SqlCellData": {
     "variableName$1": "df_sql1"
    },
    "ExecuteTime": {
     "end_time": "2025-08-02T14:55:57.496691Z",
     "start_time": "2025-08-02T14:55:57.492492Z"
    }
   },
   "cell_type": "code",
   "execution_count": null,
   "source": "%%sql\n",
   "id": "be96157628cae2e3",
   "outputs": []
  },
  {
   "cell_type": "code",
   "id": "daebfa65",
   "metadata": {
    "ExecuteTime": {
     "end_time": "2025-08-02T14:55:57.568166Z",
     "start_time": "2025-08-02T14:55:57.560463Z"
    }
   },
   "source": [
    "datos = {\n",
    "    \"nombre\": [\"Ana\", \"Luis\", \"Carlos\"],\n",
    "    \"edad\": [30, 25, 40]\n",
    "}\n",
    "\n",
    "df_empleados = pd.DataFrame(datos)\n",
    "display(df_empleados.head())\n"
   ],
   "outputs": [
    {
     "data": {
      "text/plain": [
       "   nombre  edad\n",
       "0     Ana    30\n",
       "1    Luis    25\n",
       "2  Carlos    40"
      ],
      "text/html": [
       "<div>\n",
       "<style scoped>\n",
       "    .dataframe tbody tr th:only-of-type {\n",
       "        vertical-align: middle;\n",
       "    }\n",
       "\n",
       "    .dataframe tbody tr th {\n",
       "        vertical-align: top;\n",
       "    }\n",
       "\n",
       "    .dataframe thead th {\n",
       "        text-align: right;\n",
       "    }\n",
       "</style>\n",
       "<table border=\"1\" class=\"dataframe\">\n",
       "  <thead>\n",
       "    <tr style=\"text-align: right;\">\n",
       "      <th></th>\n",
       "      <th>nombre</th>\n",
       "      <th>edad</th>\n",
       "    </tr>\n",
       "  </thead>\n",
       "  <tbody>\n",
       "    <tr>\n",
       "      <th>0</th>\n",
       "      <td>Ana</td>\n",
       "      <td>30</td>\n",
       "    </tr>\n",
       "    <tr>\n",
       "      <th>1</th>\n",
       "      <td>Luis</td>\n",
       "      <td>25</td>\n",
       "    </tr>\n",
       "    <tr>\n",
       "      <th>2</th>\n",
       "      <td>Carlos</td>\n",
       "      <td>40</td>\n",
       "    </tr>\n",
       "  </tbody>\n",
       "</table>\n",
       "</div>"
      ]
     },
     "metadata": {},
     "output_type": "display_data"
    }
   ],
   "execution_count": 2
  },
  {
   "cell_type": "code",
   "id": "69ffd5bf",
   "metadata": {
    "ExecuteTime": {
     "end_time": "2025-08-02T14:55:57.593055Z",
     "start_time": "2025-08-02T14:55:57.590428Z"
    }
   },
   "source": "type(df_empleados)",
   "outputs": [
    {
     "data": {
      "text/plain": [
       "pandas.core.frame.DataFrame"
      ]
     },
     "execution_count": 3,
     "metadata": {},
     "output_type": "execute_result"
    }
   ],
   "execution_count": 3
  },
  {
   "cell_type": "code",
   "id": "25fac040c1d94ac7",
   "metadata": {
    "ExecuteTime": {
     "end_time": "2025-08-02T14:55:57.827890Z",
     "start_time": "2025-08-02T14:55:57.690502Z"
    }
   },
   "source": [
    "%ls"
   ],
   "outputs": [
    {
     "name": "stdout",
     "output_type": "stream",
     "text": [
      "\u001B[34mCódigo+Python+DS\u001B[m\u001B[m/            \u001B[34mvenv\u001B[m\u001B[m/\r\n",
      "Precipitaciones.csv          WorkSpaceDataScience.ipynb\r\n",
      "requirements.txt             WorkSpaceReviewPython.ipynb\r\n"
     ]
    }
   ],
   "execution_count": 4
  },
  {
   "metadata": {
    "ExecuteTime": {
     "end_time": "2025-08-02T14:55:57.840979Z",
     "start_time": "2025-08-02T14:55:57.838248Z"
    }
   },
   "cell_type": "code",
   "source": "print(df_empleados.edad)",
   "id": "c1b9607bd5dac1cd",
   "outputs": [
    {
     "name": "stdout",
     "output_type": "stream",
     "text": [
      "0    30\n",
      "1    25\n",
      "2    40\n",
      "Name: edad, dtype: int64\n"
     ]
    }
   ],
   "execution_count": 5
  },
  {
   "metadata": {
    "ExecuteTime": {
     "end_time": "2025-08-02T14:55:57.856740Z",
     "start_time": "2025-08-02T14:55:57.854335Z"
    }
   },
   "cell_type": "code",
   "source": [
    "shape_df = df_empleados.shape\n",
    "print(shape_df)\n",
    "\n",
    "columns_df = df_empleados.columns\n",
    "print(columns_df)\n",
    "\n",
    "index_df = df_empleados.index\n",
    "print(index_df)\n"
   ],
   "id": "b957fe1402810249",
   "outputs": [
    {
     "name": "stdout",
     "output_type": "stream",
     "text": [
      "(3, 2)\n",
      "Index(['nombre', 'edad'], dtype='object')\n",
      "RangeIndex(start=0, stop=3, step=1)\n"
     ]
    }
   ],
   "execution_count": 6
  },
  {
   "metadata": {},
   "cell_type": "markdown",
   "source": "#### Carga de Archivos",
   "id": "34236da3ad041c3"
  },
  {
   "metadata": {
    "ExecuteTime": {
     "end_time": "2025-08-02T14:55:57.888929Z",
     "start_time": "2025-08-02T14:55:57.884073Z"
    }
   },
   "cell_type": "code",
   "source": "df = pd.read_csv(\"Precipitaciones.csv\")",
   "id": "86b4670c519ec8",
   "outputs": [],
   "execution_count": 7
  },
  {
   "metadata": {
    "ExecuteTime": {
     "end_time": "2025-08-02T14:55:57.909890Z",
     "start_time": "2025-08-02T14:55:57.903438Z"
    }
   },
   "cell_type": "code",
   "source": "df.head(1)",
   "id": "78977f52fc17b8bf",
   "outputs": [
    {
     "data": {
      "text/plain": [
       "     region  enero  febrero  marzo  abril   mayo  junio  julio  agosto  \\\n",
       "0  A CORUNA  240.5    293.4   31.0   80.6  149.5  108.9   44.6    21.8   \n",
       "\n",
       "   septiembre  octubre  noviembre  diciembre   anual  \n",
       "0        96.5    154.5      100.8      214.8  1536.9  "
      ],
      "text/html": [
       "<div>\n",
       "<style scoped>\n",
       "    .dataframe tbody tr th:only-of-type {\n",
       "        vertical-align: middle;\n",
       "    }\n",
       "\n",
       "    .dataframe tbody tr th {\n",
       "        vertical-align: top;\n",
       "    }\n",
       "\n",
       "    .dataframe thead th {\n",
       "        text-align: right;\n",
       "    }\n",
       "</style>\n",
       "<table border=\"1\" class=\"dataframe\">\n",
       "  <thead>\n",
       "    <tr style=\"text-align: right;\">\n",
       "      <th></th>\n",
       "      <th>region</th>\n",
       "      <th>enero</th>\n",
       "      <th>febrero</th>\n",
       "      <th>marzo</th>\n",
       "      <th>abril</th>\n",
       "      <th>mayo</th>\n",
       "      <th>junio</th>\n",
       "      <th>julio</th>\n",
       "      <th>agosto</th>\n",
       "      <th>septiembre</th>\n",
       "      <th>octubre</th>\n",
       "      <th>noviembre</th>\n",
       "      <th>diciembre</th>\n",
       "      <th>anual</th>\n",
       "    </tr>\n",
       "  </thead>\n",
       "  <tbody>\n",
       "    <tr>\n",
       "      <th>0</th>\n",
       "      <td>A CORUNA</td>\n",
       "      <td>240.5</td>\n",
       "      <td>293.4</td>\n",
       "      <td>31.0</td>\n",
       "      <td>80.6</td>\n",
       "      <td>149.5</td>\n",
       "      <td>108.9</td>\n",
       "      <td>44.6</td>\n",
       "      <td>21.8</td>\n",
       "      <td>96.5</td>\n",
       "      <td>154.5</td>\n",
       "      <td>100.8</td>\n",
       "      <td>214.8</td>\n",
       "      <td>1536.9</td>\n",
       "    </tr>\n",
       "  </tbody>\n",
       "</table>\n",
       "</div>"
      ]
     },
     "execution_count": 8,
     "metadata": {},
     "output_type": "execute_result"
    }
   ],
   "execution_count": 8
  },
  {
   "metadata": {
    "ExecuteTime": {
     "end_time": "2025-08-02T14:55:57.956009Z",
     "start_time": "2025-08-02T14:55:57.949444Z"
    }
   },
   "cell_type": "code",
   "source": "df.info()",
   "id": "d030d1d9d78123bc",
   "outputs": [
    {
     "name": "stdout",
     "output_type": "stream",
     "text": [
      "<class 'pandas.core.frame.DataFrame'>\n",
      "RangeIndex: 52 entries, 0 to 51\n",
      "Data columns (total 14 columns):\n",
      " #   Column      Non-Null Count  Dtype  \n",
      "---  ------      --------------  -----  \n",
      " 0   region      52 non-null     object \n",
      " 1   enero       52 non-null     float64\n",
      " 2   febrero     52 non-null     float64\n",
      " 3   marzo       52 non-null     float64\n",
      " 4   abril       52 non-null     float64\n",
      " 5   mayo        52 non-null     float64\n",
      " 6   junio       52 non-null     float64\n",
      " 7   julio       52 non-null     float64\n",
      " 8   agosto      52 non-null     float64\n",
      " 9   septiembre  52 non-null     float64\n",
      " 10  octubre     52 non-null     float64\n",
      " 11  noviembre   52 non-null     float64\n",
      " 12  diciembre   52 non-null     float64\n",
      " 13  anual       52 non-null     float64\n",
      "dtypes: float64(13), object(1)\n",
      "memory usage: 5.8+ KB\n"
     ]
    }
   ],
   "execution_count": 9
  },
  {
   "metadata": {
    "ExecuteTime": {
     "end_time": "2025-08-02T14:55:58.020339Z",
     "start_time": "2025-08-02T14:55:58.014416Z"
    }
   },
   "cell_type": "code",
   "source": "df.tail(1)",
   "id": "85ccd786c5bbdf43",
   "outputs": [
    {
     "data": {
      "text/plain": [
       "      region  enero  febrero  marzo  abril  mayo  junio  julio  agosto  \\\n",
       "51  ZARAGOZA   52.0     30.0    3.6   52.7  38.3   57.5   13.5    13.2   \n",
       "\n",
       "    septiembre  octubre  noviembre  diciembre  anual  \n",
       "51        61.5     27.4       76.6       23.4  449.7  "
      ],
      "text/html": [
       "<div>\n",
       "<style scoped>\n",
       "    .dataframe tbody tr th:only-of-type {\n",
       "        vertical-align: middle;\n",
       "    }\n",
       "\n",
       "    .dataframe tbody tr th {\n",
       "        vertical-align: top;\n",
       "    }\n",
       "\n",
       "    .dataframe thead th {\n",
       "        text-align: right;\n",
       "    }\n",
       "</style>\n",
       "<table border=\"1\" class=\"dataframe\">\n",
       "  <thead>\n",
       "    <tr style=\"text-align: right;\">\n",
       "      <th></th>\n",
       "      <th>region</th>\n",
       "      <th>enero</th>\n",
       "      <th>febrero</th>\n",
       "      <th>marzo</th>\n",
       "      <th>abril</th>\n",
       "      <th>mayo</th>\n",
       "      <th>junio</th>\n",
       "      <th>julio</th>\n",
       "      <th>agosto</th>\n",
       "      <th>septiembre</th>\n",
       "      <th>octubre</th>\n",
       "      <th>noviembre</th>\n",
       "      <th>diciembre</th>\n",
       "      <th>anual</th>\n",
       "    </tr>\n",
       "  </thead>\n",
       "  <tbody>\n",
       "    <tr>\n",
       "      <th>51</th>\n",
       "      <td>ZARAGOZA</td>\n",
       "      <td>52.0</td>\n",
       "      <td>30.0</td>\n",
       "      <td>3.6</td>\n",
       "      <td>52.7</td>\n",
       "      <td>38.3</td>\n",
       "      <td>57.5</td>\n",
       "      <td>13.5</td>\n",
       "      <td>13.2</td>\n",
       "      <td>61.5</td>\n",
       "      <td>27.4</td>\n",
       "      <td>76.6</td>\n",
       "      <td>23.4</td>\n",
       "      <td>449.7</td>\n",
       "    </tr>\n",
       "  </tbody>\n",
       "</table>\n",
       "</div>"
      ]
     },
     "execution_count": 10,
     "metadata": {},
     "output_type": "execute_result"
    }
   ],
   "execution_count": 10
  },
  {
   "metadata": {
    "ExecuteTime": {
     "end_time": "2025-08-02T14:55:58.095795Z",
     "start_time": "2025-08-02T14:55:58.092517Z"
    }
   },
   "cell_type": "code",
   "source": "df.columns",
   "id": "af4825ab520abdfa",
   "outputs": [
    {
     "data": {
      "text/plain": [
       "Index(['region', 'enero', 'febrero', 'marzo', 'abril', 'mayo', 'junio',\n",
       "       'julio', 'agosto', 'septiembre', 'octubre', 'noviembre', 'diciembre',\n",
       "       'anual'],\n",
       "      dtype='object')"
      ]
     },
     "execution_count": 11,
     "metadata": {},
     "output_type": "execute_result"
    }
   ],
   "execution_count": 11
  },
  {
   "metadata": {
    "ExecuteTime": {
     "end_time": "2025-08-02T14:55:58.183631Z",
     "start_time": "2025-08-02T14:55:58.166508Z"
    }
   },
   "cell_type": "code",
   "source": "df.describe()",
   "id": "3f6a60227ea6006f",
   "outputs": [
    {
     "data": {
      "text/plain": [
       "            enero     febrero       marzo       abril        mayo       junio  \\\n",
       "count   52.000000   52.000000   52.000000   52.000000   52.000000   52.000000   \n",
       "mean    92.996154   78.632692   26.684615   64.500000   38.305769   54.182692   \n",
       "std     57.127171   67.454280   31.473913   21.421942   29.079576   36.821635   \n",
       "min     26.800000    2.300000    3.300000    3.500000    0.700000    1.100000   \n",
       "25%     53.825000   32.825000    9.125000   53.950000   18.875000   26.325000   \n",
       "50%     73.950000   62.600000   17.200000   62.700000   35.650000   50.400000   \n",
       "75%     97.300000  102.550000   35.425000   77.625000   48.750000   78.025000   \n",
       "max    261.900000  335.700000  209.800000  128.400000  149.500000  145.000000   \n",
       "\n",
       "           julio     agosto  septiembre     octubre   noviembre   diciembre  \\\n",
       "count  52.000000  52.000000   52.000000   52.000000   52.000000   52.000000   \n",
       "mean   11.840385  17.178846   62.246154   54.373077   82.494231   76.192308   \n",
       "std    13.256390  13.939496   28.581205   36.619785   91.689789   80.409042   \n",
       "min     0.000000   0.000000    0.900000    1.000000    7.100000    1.800000   \n",
       "25%     1.600000   4.850000   46.000000   29.825000   32.375000   22.075000   \n",
       "50%     6.150000  16.500000   62.300000   46.550000   46.950000   47.950000   \n",
       "75%    17.875000  26.550000   81.625000   74.500000  102.725000  107.000000   \n",
       "max    46.800000  57.000000  122.800000  175.700000  384.600000  314.700000   \n",
       "\n",
       "             anual  \n",
       "count    52.000000  \n",
       "mean    659.626923  \n",
       "std     352.905548  \n",
       "min     108.200000  \n",
       "25%     455.925000  \n",
       "50%     548.550000  \n",
       "75%     665.150000  \n",
       "max    1575.400000  "
      ],
      "text/html": [
       "<div>\n",
       "<style scoped>\n",
       "    .dataframe tbody tr th:only-of-type {\n",
       "        vertical-align: middle;\n",
       "    }\n",
       "\n",
       "    .dataframe tbody tr th {\n",
       "        vertical-align: top;\n",
       "    }\n",
       "\n",
       "    .dataframe thead th {\n",
       "        text-align: right;\n",
       "    }\n",
       "</style>\n",
       "<table border=\"1\" class=\"dataframe\">\n",
       "  <thead>\n",
       "    <tr style=\"text-align: right;\">\n",
       "      <th></th>\n",
       "      <th>enero</th>\n",
       "      <th>febrero</th>\n",
       "      <th>marzo</th>\n",
       "      <th>abril</th>\n",
       "      <th>mayo</th>\n",
       "      <th>junio</th>\n",
       "      <th>julio</th>\n",
       "      <th>agosto</th>\n",
       "      <th>septiembre</th>\n",
       "      <th>octubre</th>\n",
       "      <th>noviembre</th>\n",
       "      <th>diciembre</th>\n",
       "      <th>anual</th>\n",
       "    </tr>\n",
       "  </thead>\n",
       "  <tbody>\n",
       "    <tr>\n",
       "      <th>count</th>\n",
       "      <td>52.000000</td>\n",
       "      <td>52.000000</td>\n",
       "      <td>52.000000</td>\n",
       "      <td>52.000000</td>\n",
       "      <td>52.000000</td>\n",
       "      <td>52.000000</td>\n",
       "      <td>52.000000</td>\n",
       "      <td>52.000000</td>\n",
       "      <td>52.000000</td>\n",
       "      <td>52.000000</td>\n",
       "      <td>52.000000</td>\n",
       "      <td>52.000000</td>\n",
       "      <td>52.000000</td>\n",
       "    </tr>\n",
       "    <tr>\n",
       "      <th>mean</th>\n",
       "      <td>92.996154</td>\n",
       "      <td>78.632692</td>\n",
       "      <td>26.684615</td>\n",
       "      <td>64.500000</td>\n",
       "      <td>38.305769</td>\n",
       "      <td>54.182692</td>\n",
       "      <td>11.840385</td>\n",
       "      <td>17.178846</td>\n",
       "      <td>62.246154</td>\n",
       "      <td>54.373077</td>\n",
       "      <td>82.494231</td>\n",
       "      <td>76.192308</td>\n",
       "      <td>659.626923</td>\n",
       "    </tr>\n",
       "    <tr>\n",
       "      <th>std</th>\n",
       "      <td>57.127171</td>\n",
       "      <td>67.454280</td>\n",
       "      <td>31.473913</td>\n",
       "      <td>21.421942</td>\n",
       "      <td>29.079576</td>\n",
       "      <td>36.821635</td>\n",
       "      <td>13.256390</td>\n",
       "      <td>13.939496</td>\n",
       "      <td>28.581205</td>\n",
       "      <td>36.619785</td>\n",
       "      <td>91.689789</td>\n",
       "      <td>80.409042</td>\n",
       "      <td>352.905548</td>\n",
       "    </tr>\n",
       "    <tr>\n",
       "      <th>min</th>\n",
       "      <td>26.800000</td>\n",
       "      <td>2.300000</td>\n",
       "      <td>3.300000</td>\n",
       "      <td>3.500000</td>\n",
       "      <td>0.700000</td>\n",
       "      <td>1.100000</td>\n",
       "      <td>0.000000</td>\n",
       "      <td>0.000000</td>\n",
       "      <td>0.900000</td>\n",
       "      <td>1.000000</td>\n",
       "      <td>7.100000</td>\n",
       "      <td>1.800000</td>\n",
       "      <td>108.200000</td>\n",
       "    </tr>\n",
       "    <tr>\n",
       "      <th>25%</th>\n",
       "      <td>53.825000</td>\n",
       "      <td>32.825000</td>\n",
       "      <td>9.125000</td>\n",
       "      <td>53.950000</td>\n",
       "      <td>18.875000</td>\n",
       "      <td>26.325000</td>\n",
       "      <td>1.600000</td>\n",
       "      <td>4.850000</td>\n",
       "      <td>46.000000</td>\n",
       "      <td>29.825000</td>\n",
       "      <td>32.375000</td>\n",
       "      <td>22.075000</td>\n",
       "      <td>455.925000</td>\n",
       "    </tr>\n",
       "    <tr>\n",
       "      <th>50%</th>\n",
       "      <td>73.950000</td>\n",
       "      <td>62.600000</td>\n",
       "      <td>17.200000</td>\n",
       "      <td>62.700000</td>\n",
       "      <td>35.650000</td>\n",
       "      <td>50.400000</td>\n",
       "      <td>6.150000</td>\n",
       "      <td>16.500000</td>\n",
       "      <td>62.300000</td>\n",
       "      <td>46.550000</td>\n",
       "      <td>46.950000</td>\n",
       "      <td>47.950000</td>\n",
       "      <td>548.550000</td>\n",
       "    </tr>\n",
       "    <tr>\n",
       "      <th>75%</th>\n",
       "      <td>97.300000</td>\n",
       "      <td>102.550000</td>\n",
       "      <td>35.425000</td>\n",
       "      <td>77.625000</td>\n",
       "      <td>48.750000</td>\n",
       "      <td>78.025000</td>\n",
       "      <td>17.875000</td>\n",
       "      <td>26.550000</td>\n",
       "      <td>81.625000</td>\n",
       "      <td>74.500000</td>\n",
       "      <td>102.725000</td>\n",
       "      <td>107.000000</td>\n",
       "      <td>665.150000</td>\n",
       "    </tr>\n",
       "    <tr>\n",
       "      <th>max</th>\n",
       "      <td>261.900000</td>\n",
       "      <td>335.700000</td>\n",
       "      <td>209.800000</td>\n",
       "      <td>128.400000</td>\n",
       "      <td>149.500000</td>\n",
       "      <td>145.000000</td>\n",
       "      <td>46.800000</td>\n",
       "      <td>57.000000</td>\n",
       "      <td>122.800000</td>\n",
       "      <td>175.700000</td>\n",
       "      <td>384.600000</td>\n",
       "      <td>314.700000</td>\n",
       "      <td>1575.400000</td>\n",
       "    </tr>\n",
       "  </tbody>\n",
       "</table>\n",
       "</div>"
      ]
     },
     "execution_count": 12,
     "metadata": {},
     "output_type": "execute_result"
    }
   ],
   "execution_count": 12
  },
  {
   "metadata": {},
   "cell_type": "markdown",
   "source": "### Series",
   "id": "9977c1575bd5ab9f"
  },
  {
   "metadata": {
    "ExecuteTime": {
     "end_time": "2025-08-02T14:55:58.249255Z",
     "start_time": "2025-08-02T14:55:58.246841Z"
    }
   },
   "cell_type": "code",
   "source": "",
   "id": "f0a428da37bf1fdc",
   "outputs": [],
   "execution_count": null
  }
 ],
 "metadata": {
  "kernelspec": {
   "display_name": "venv",
   "language": "python",
   "name": "python3"
  },
  "language_info": {
   "codemirror_mode": {
    "name": "ipython",
    "version": 3
   },
   "file_extension": ".py",
   "mimetype": "text/x-python",
   "name": "python",
   "nbconvert_exporter": "python",
   "pygments_lexer": "ipython3",
   "version": "3.13.3"
  }
 },
 "nbformat": 4,
 "nbformat_minor": 5
}
