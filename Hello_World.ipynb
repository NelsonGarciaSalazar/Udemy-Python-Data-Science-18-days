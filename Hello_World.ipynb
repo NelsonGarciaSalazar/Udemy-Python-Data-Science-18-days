{
 "cells": [
  {
   "cell_type": "code",
   "execution_count": null,
   "id": "ad723f66",
   "metadata": {},
   "outputs": [],
   "source": [
    "frase = \"Python es divertido\"\n",
    "frase_modificada = str.replace(frase, \"divertido\", \"genial\")\n",
    "print(frase_modificada)"
   ]
  },
  {
   "cell_type": "code",
   "execution_count": null,
   "id": "3e72fa39",
   "metadata": {},
   "outputs": [],
   "source": []
  },
  {
   "cell_type": "code",
   "execution_count": null,
   "id": "66a3c5d3",
   "metadata": {},
   "outputs": [],
   "source": []
  }
 ],
 "metadata": {
  "kernelspec": {
   "display_name": "Python 3",
   "language": "python",
   "name": "python3"
  },
  "language_info": {
   "codemirror_mode": {
    "name": "ipython",
    "version": 3
   },
   "file_extension": ".py",
   "mimetype": "text/x-python",
   "name": "python",
   "nbconvert_exporter": "python",
   "pygments_lexer": "ipython3",
   "version": "3.11.7"
  }
 },
 "nbformat": 4,
 "nbformat_minor": 5
}
