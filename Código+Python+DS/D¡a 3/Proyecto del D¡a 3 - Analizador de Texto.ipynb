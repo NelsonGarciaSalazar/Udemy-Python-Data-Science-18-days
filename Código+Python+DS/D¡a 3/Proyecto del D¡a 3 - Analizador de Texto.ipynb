{
 "cells": [
  {
   "cell_type": "markdown",
   "id": "9572445f",
   "metadata": {},
   "source": [
    "# Proyecto del Día 3: Analizador de Texto\n",
    "\n",
    "Este proyecto tiene como objetivo aplicar los conceptos aprendidos sobre strings, input, indexación y formateo de strings en Python. El programa permitirá al usuario ingresar un texto y luego elegir realizar diversas operaciones de análisis sobre ese texto.\n",
    "\n",
    "## Consigna\n",
    "Vas a crear un programa que le pida al usuario que ingrese un texto de al menos 10 palabras. Tu programa va a procesar ese texto, lo va a procesar, y le va a devolver un análisis detallado, que incluya:\n",
    "1. Contar el número total de caracteres en el texto\n",
    "2. Contar el número de caracteres sin incluir los espacios\n",
    "3. Contar la cantidad de vocales que hay en el texto\n",
    "4. Contar el número total de palabras en el texto ingresado\n",
    "\n",
    "**nota**: para resolver los siguientes items, deberás investigar otros métodos de strings que no hemos visto. Recuerda valerte de *type*, *dir* y *help*\n",
    "\n",
    "5. Eliminar la primera palabra\n",
    "6. Reemplazar todos los espacios por guiones medios (-)\n",
    "8. Cambia las mayúsculas a minúsculas y las minúsculas a mayúsculas \n",
    "\n",
    "Al finalizar el procesamiento, se imprimirán 8 cadenas literales mostrando los resultados del análisis (una cadena por cada resultado).\n",
    "<br>\n",
    "<br>\n",
    "<br>"
   ]
  },
  {
   "cell_type": "markdown",
   "id": "e5cd9e4d",
   "metadata": {},
   "source": [
    "### Resolución\n",
    "\n",
    "Ingreso del usuario:"
   ]
  },
  {
   "cell_type": "code",
   "id": "fa27da8c",
   "metadata": {
    "ExecuteTime": {
     "end_time": "2025-05-13T11:21:48.521186Z",
     "start_time": "2025-05-13T11:21:48.518575Z"
    }
   },
   "source": "phrase = \"Learn fundamentals maths to manage the machine learning is mandatory\"",
   "outputs": [],
   "execution_count": 2
  },
  {
   "cell_type": "markdown",
   "id": "41214377",
   "metadata": {},
   "source": [
    "1. Contar el número total de caracteres en el texto"
   ]
  },
  {
   "cell_type": "code",
   "id": "40448873",
   "metadata": {
    "ExecuteTime": {
     "end_time": "2025-05-13T11:27:55.075379Z",
     "start_time": "2025-05-13T11:27:55.070972Z"
    }
   },
   "source": [
    "def count_characters(text:str)->int:\n",
    "    return len(text)\n",
    "\n",
    "print(int(count_characters(phrase)))"
   ],
   "outputs": [
    {
     "name": "stdout",
     "output_type": "stream",
     "text": [
      "68\n"
     ]
    }
   ],
   "execution_count": 8
  },
  {
   "cell_type": "markdown",
   "id": "3d6378dc",
   "metadata": {},
   "source": [
    "2. Contar el número de caracteres sin incluir los espacios"
   ]
  },
  {
   "cell_type": "code",
   "id": "991b29c7",
   "metadata": {
    "ExecuteTime": {
     "end_time": "2025-05-13T11:42:00.294143Z",
     "start_time": "2025-05-13T11:42:00.291041Z"
    }
   },
   "source": [
    "def count_characters_without_spaces(text:str)->int:\n",
    "    return len(text.replace(' ', ''))\n",
    "\n",
    "print(count_characters_without_spaces(phrase))"
   ],
   "outputs": [
    {
     "name": "stdout",
     "output_type": "stream",
     "text": [
      "59\n"
     ]
    }
   ],
   "execution_count": 11
  },
  {
   "cell_type": "markdown",
   "id": "c6e62385",
   "metadata": {},
   "source": [
    "3. Contar la cantidad de vocales que hay en el texto"
   ]
  },
  {
   "cell_type": "code",
   "id": "65b19bc7",
   "metadata": {
    "ExecuteTime": {
     "end_time": "2025-05-13T12:20:18.206528Z",
     "start_time": "2025-05-13T12:20:18.201726Z"
    }
   },
   "source": [
    "# Tradicional Way\n",
    "def count_vocals(text:str)->int:\n",
    "    counter = 0\n",
    "    for char in text:\n",
    "        if char in 'aeiouAEIOU':\n",
    "            counter += 1\n",
    "    return counter\n",
    "\n",
    "print(count_vocals(phrase))\n",
    "\n",
    "# Using sum with generator\n",
    "def count_vocals_generator(cadena: str) -> int:\n",
    "    vocales = \"aeiouAEIOU\"\n",
    "    return sum(1 for c in cadena if c in vocales)\n",
    "\n",
    "print(count_vocals_generator(phrase))\n",
    "\n",
    "# The most OPTIMA solution, using COUNT\n",
    "def count_vocals_count(cadena: str) -> int:\n",
    "    vocales = \"aeiouAEIOU\"\n",
    "    return sum(cadena.count(v) for v in vocales)\n",
    "\n",
    "print(count_vocals_count(phrase))"
   ],
   "outputs": [
    {
     "name": "stdout",
     "output_type": "stream",
     "text": [
      "22\n",
      "22\n",
      "22\n"
     ]
    }
   ],
   "execution_count": 16
  },
  {
   "cell_type": "markdown",
   "id": "4b6211c5",
   "metadata": {},
   "source": [
    "4. Contar el número total de palabras en el texto ingresado"
   ]
  },
  {
   "cell_type": "code",
   "id": "5b6eb1b1",
   "metadata": {
    "ExecuteTime": {
     "end_time": "2025-05-13T12:24:00.689534Z",
     "start_time": "2025-05-13T12:24:00.685756Z"
    }
   },
   "source": [
    "def total_words(text:str)->int:\n",
    "    return len(text.split())\n",
    "\n",
    "print(total_words(phrase))"
   ],
   "outputs": [
    {
     "name": "stdout",
     "output_type": "stream",
     "text": [
      "10\n"
     ]
    }
   ],
   "execution_count": 17
  },
  {
   "cell_type": "markdown",
   "id": "bee5597e",
   "metadata": {},
   "source": [
    "5. Eliminar la primera palabra"
   ]
  },
  {
   "cell_type": "code",
   "id": "8bcbfe9d",
   "metadata": {
    "ExecuteTime": {
     "end_time": "2025-05-13T12:36:05.726342Z",
     "start_time": "2025-05-13T12:36:05.722576Z"
    }
   },
   "source": [
    "def delete_first_word(text:str)-> str:\n",
    "    return \" \".join(text.split()[1:])\n",
    "\n",
    "print(delete_first_word(phrase))"
   ],
   "outputs": [
    {
     "name": "stdout",
     "output_type": "stream",
     "text": [
      "fundamentals maths to manage the machine learning is mandatory\n"
     ]
    }
   ],
   "execution_count": 26
  },
  {
   "cell_type": "markdown",
   "id": "d5b05440",
   "metadata": {},
   "source": [
    "6. Reemplazar todos los espacios por guiones medios (-)"
   ]
  },
  {
   "cell_type": "code",
   "id": "90a21e61",
   "metadata": {
    "ExecuteTime": {
     "end_time": "2025-05-13T12:37:31.913013Z",
     "start_time": "2025-05-13T12:37:31.908922Z"
    }
   },
   "source": [
    "def replace_space_by_dash(text:str)-> str:\n",
    "    return text.replace(' ', '-')\n",
    "print(replace_space_by_dash(phrase))"
   ],
   "outputs": [
    {
     "name": "stdout",
     "output_type": "stream",
     "text": [
      "Learn-fundamentals-maths-to-manage-the-machine-learning-is-mandatory\n"
     ]
    }
   ],
   "execution_count": 27
  },
  {
   "cell_type": "markdown",
   "id": "8a61c508",
   "metadata": {},
   "source": [
    "7. Cambia las mayúsculas a minúsculas y las minúsculas a mayúsculas"
   ]
  },
  {
   "cell_type": "code",
   "id": "8cb35aaf",
   "metadata": {
    "ExecuteTime": {
     "end_time": "2025-05-13T12:48:48.780337Z",
     "start_time": "2025-05-13T12:48:48.776689Z"
    }
   },
   "source": [
    "phrase_2 = \"Text Of Test To LOWER\"\n",
    "def change_uppercase_to_lowercase_and_reverse(text:str)-> str:\n",
    "    return text.swapcase()\n",
    "\n",
    "print(change_uppercase_to_lowercase_and_reverse(phrase_2))"
   ],
   "outputs": [
    {
     "name": "stdout",
     "output_type": "stream",
     "text": [
      "tEXT oF tEST tO lower\n"
     ]
    }
   ],
   "execution_count": 32
  },
  {
   "cell_type": "markdown",
   "id": "66b8d816",
   "metadata": {},
   "source": [
    "Muéstrale al usuario los resultados del análisis de su texto."
   ]
  },
  {
   "cell_type": "code",
   "id": "eb0d449a",
   "metadata": {
    "ExecuteTime": {
     "end_time": "2025-05-13T13:09:38.214364Z",
     "start_time": "2025-05-13T13:09:34.607416Z"
    }
   },
   "source": [
    "insight = input(\"Entry the new phrase\")\n",
    "\n",
    "print(\n",
    "        f\"1. Contar el número total de caracteres en el texto: {count_characters(insight)}\\n\"\n",
    "        f\"2. Contar el número de caracteres sin incluir los espacios: {count_characters_without_spaces(insight)}\\n\"\n",
    "        f\"3. Contar la cantidad de vocales que hay en el texto: {count_vocals_count(insight)}\\n\"\n",
    "        f\"4. Contar el número total de palabras en el texto ingresado: {total_words(insight)}\\n\"\n",
    "        f\"5. Eliminar la primera palabra: {delete_first_word(insight)}\\n\"\n",
    "        f\"6. Reemplazar todos los espacios por guiones medios (-): {replace_space_by_dash(insight)}\\n\"\n",
    "        f\"8. Cambia las mayúsculas a minúsculas y las minúsculas a mayúsculas: {change_uppercase_to_lowercase_and_reverse(insight)}\\n\"\n",
    "     )"
   ],
   "outputs": [
    {
     "name": "stdout",
     "output_type": "stream",
     "text": [
      "1. Contar el número total de caracteres en el texto: 101\n",
      "2. Contar el número de caracteres sin incluir los espacios: 89\n",
      "3. Contar la cantidad de vocales que hay en el texto: 38\n",
      "4. Contar el número total de palabras en el texto ingresado: 13\n",
      "5. Eliminar la primera palabra: los fundamentos de las matemáticas para gestionar el aprendizaje automático es obligatorio\"\n",
      "6. Reemplazar todos los espacios por guiones medios (-): \"Aprender-los-fundamentos-de-las-matemáticas-para-gestionar-el-aprendizaje-automático-es-obligatorio\"\n",
      "8. Cambia las mayúsculas a minúsculas y las minúsculas a mayúsculas: \"aPRENDER LOS FUNDAMENTOS DE LAS MATEMÁTICAS PARA GESTIONAR EL APRENDIZAJE AUTOMÁTICO ES OBLIGATORIO\"\n",
      "\n"
     ]
    }
   ],
   "execution_count": 33
  },
  {
   "metadata": {},
   "cell_type": "code",
   "outputs": [],
   "execution_count": null,
   "source": "",
   "id": "644998799c6179a9"
  }
 ],
 "metadata": {
  "kernelspec": {
   "display_name": "Python 3 (ipykernel)",
   "language": "python",
   "name": "python3"
  },
  "language_info": {
   "codemirror_mode": {
    "name": "ipython",
    "version": 3
   },
   "file_extension": ".py",
   "mimetype": "text/x-python",
   "name": "python",
   "nbconvert_exporter": "python",
   "pygments_lexer": "ipython3",
   "version": "3.11.5"
  }
 },
 "nbformat": 4,
 "nbformat_minor": 5
}
