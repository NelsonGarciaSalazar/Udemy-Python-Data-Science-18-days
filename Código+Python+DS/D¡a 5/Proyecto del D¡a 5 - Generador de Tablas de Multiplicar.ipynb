{
 "cells": [
  {
   "cell_type": "markdown",
   "id": "a948c51c",
   "metadata": {},
   "source": [
    "# Proyecto del Día 5: Generador de Tablas de Multiplicar"
   ]
  },
  {
   "cell_type": "markdown",
   "id": "e8159936",
   "metadata": {},
   "source": [
    "\n",
    "Este proyecto de Python permite al usuario generar tablas de multiplicar para cualquier número y hasta un límite específico de multiplicación.\n",
    "\n",
    "## Consigna\n",
    "Vas a crear un código que le pida al usuario un **número para multiplicar**, y un **número límite** para establecer hasta cuánto lo vamos a multiplicar.\n",
    "\n",
    "Por ejemplo, si el usuario elige:\n",
    "- Número: 5\n",
    "- Límite: 3\n",
    "\n",
    "El programa le devolverá:\n",
    "```\n",
    "5 x 1 = 5\n",
    "5 x 2 = 10\n",
    "5 x 3 = 15\n",
    "````\n",
    "\n",
    "Cuando el programa termine de mostrar los resultados, debe preguntarle al usuario si desea calcular otra tabla, o finalizar el programa.\n",
    "\n",
    "**Recomendaciones**:\n",
    "- Crear una función que se encargue de calcular las tablas\n",
    "- Crear una función global que se encargue de:\n",
    "    - Solicitar al usuario un número para generar su tabla de multiplicar.\n",
    "    - Pedir el límite hasta donde se quiere llegar en la multiplicación.\n",
    "    - Llamar a la función que crea las tablas\n",
    "    \n",
    "- Emplear bucles `for` y la función `range` para la lógica de la tabla.\n",
    "- Implementar un bucle `while` para que el usuario pueda generar múltiples tablas o salir del programa.\n"
   ]
  },
  {
   "cell_type": "code",
   "execution_count": 2,
   "id": "39ac3e8e",
   "metadata": {},
   "outputs": [],
   "source": [
    "def calcular_tabla(numero: int, limite: int) -> None:\n",
    "    for i in range(1, limite + 1):\n",
    "        resultado = numero * i\n",
    "        print(f\"{numero} x {i} = {resultado}\")"
   ]
  },
  {
   "cell_type": "code",
   "execution_count": 3,
   "id": "b50850fb",
   "metadata": {},
   "outputs": [],
   "source": [
    "def generar_tabla_multiplicar() -> None:\n",
    "    continuar = True\n",
    "    while True:\n",
    "        try:\n",
    "            numero = int(input(\"Ingrese un número para generar su tabla de multiplicar: \"))\n",
    "            limite = int(input(\"Ingrese el límite de la tabla: \"))\n",
    "\n",
    "            calcular_tabla(numero, limite)\n",
    "            \n",
    "            continuar = input(\"¿Desea generar otra tabla? (s/n): \").strip().lower()\n",
    "            \n",
    "            if continuar != 's':\n",
    "                print(\"Gracias por usar el generador de tablas de multiplicar.\")\n",
    "                break\n",
    "        except ValueError:\n",
    "            print(\"Por favor, ingrese un número válido.\")"
   ]
  },
  {
   "cell_type": "code",
   "execution_count": 4,
   "id": "74d34ffe",
   "metadata": {},
   "outputs": [
    {
     "name": "stdout",
     "output_type": "stream",
     "text": [
      "2 x 1 = 2\n",
      "2 x 2 = 4\n",
      "2 x 3 = 6\n",
      "2 x 4 = 8\n",
      "2 x 5 = 10\n",
      "2 x 6 = 12\n",
      "2 x 7 = 14\n",
      "2 x 8 = 16\n",
      "2 x 9 = 18\n",
      "2 x 10 = 20\n",
      "Gracias por usar el generador de tablas de multiplicar.\n"
     ]
    }
   ],
   "source": [
    "generar_tabla_multiplicar()\n",
    "# Este script genera la tabla de multiplicar de un número ingresado por el usuario\n",
    "# hasta un límite también ingresado por el usuario.\n",
    "# Se utiliza un bucle while para permitir al usuario generar múltiples tablas\n",
    "# de multiplicar sin necesidad de reiniciar el programa.\n",
    "# El programa maneja excepciones para asegurar que el usuario ingrese valores válidos.\n",
    "# Se utiliza la función calcular_tabla para realizar la multiplicación y mostrar los resultados.\n",
    "# El script finaliza cuando el usuario decide no generar más tablas.\n",
    "# Se utiliza la función input para recibir datos del usuario y print para mostrar resultados.\n",
    "# El código es interactivo y permite al usuario elegir qué hacer a continuación.        "
   ]
  }
 ],
 "metadata": {
  "kernelspec": {
   "display_name": "Python 3",
   "language": "python",
   "name": "python3"
  },
  "language_info": {
   "codemirror_mode": {
    "name": "ipython",
    "version": 3
   },
   "file_extension": ".py",
   "mimetype": "text/x-python",
   "name": "python",
   "nbconvert_exporter": "python",
   "pygments_lexer": "ipython3",
   "version": "3.13.3"
  }
 },
 "nbformat": 4,
 "nbformat_minor": 5
}
