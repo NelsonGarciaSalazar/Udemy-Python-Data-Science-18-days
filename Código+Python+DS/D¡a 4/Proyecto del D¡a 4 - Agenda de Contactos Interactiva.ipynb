{
 "cells": [
  {
   "cell_type": "markdown",
   "id": "0d153c56",
   "metadata": {},
   "source": [
    "# Proyecto del Día 4: Agenda de Contactos Interactiva\n",
    "\n",
    "### Objetivo\n",
    "Crear una agenda de contactos utilizando Python, aplicando los conceptos aprendidos sobre listas, tuplas, diccionarios, booleanos y estructuras de control.\n",
    "\n",
    "\n",
    "### Consigna\n",
    "Cada vez que inicies tu agenda, va a comenzar preguntándole al usuario cuál de estas opciones prefiere:\n",
    "1. **Añadir un contacto**: Crear un nuevo registro en la agenda (nombre, telefono).\n",
    "2. **Buscar un contacto**: Buscar un contacto por nombre y mostrar su teléfono, o un mensaje de error si no lo encuentra.\n",
    "3. **Editar un contacto**: Modificar teléfono de un contacto existente.\n",
    "4. **Eliminar un contacto**: Eliminar un contacto de la agenda (investiga los métodos disponibles para lograrlo)\n",
    "5. **Mostrar todos los contactos**: Mostrar todos los contactos guardados en la agenda.\n",
    "\n",
    "El usuario elegirá una de esas opciones, y el programa ejecutará el código correspondiente para procesar su pedido y mostrarle el resultado.\n",
    "\n",
    "\n",
    "### Notas y Ayudas\n",
    "- Debido a que vas a almacenar pares de datos (nombre y teléfono) ¿cuál crees que sería la mejor estructura de datos para guardarlos: **listas**, **tuplas** o **diccionarios**?\n",
    "- Algunas de las funcionalidades de tu agenda, pueden requerir que investigues algunos métodos que no hemos visto en las lecciones, pero que podrás descubrir con *type*, *dir* y *help*.\n",
    "<br>  \n",
    "<br>\n",
    "<br>"
   ]
  },
  {
   "cell_type": "markdown",
   "id": "c6c4ab9d",
   "metadata": {},
   "source": [
    "## Resolución"
   ]
  },
  {
   "cell_type": "markdown",
   "id": "cb507a52",
   "metadata": {},
   "source": [
    "Crea una agenda vacía"
   ]
  },
  {
   "cell_type": "code",
   "execution_count": 15,
   "id": "e9c026bd",
   "metadata": {
    "ExecuteTime": {
     "end_time": "2025-05-14T02:20:53.888133Z",
     "start_time": "2025-05-14T02:20:53.882848Z"
    }
   },
   "outputs": [],
   "source": [
    "from sympy.codegen import Print\n",
    "\n",
    "contact_list = {}"
   ]
  },
  {
   "cell_type": "markdown",
   "id": "be7b6b93",
   "metadata": {},
   "source": [
    "En la siguiente celda, incluye el código para ejecutar las siguientes instrucciones:\n",
    "- Mostrar en pantalla las opciones\n",
    "- Pedirle al usuario que elija las opciones\n",
    "- Crear una estructura de control (*if*, *elif* y *else*) que ejecute diferentes bloques de código según las opciones elegidas."
   ]
  },
  {
   "cell_type": "code",
   "execution_count": 45,
   "id": "8b359157c50bdd48",
   "metadata": {
    "ExecuteTime": {
     "end_time": "2025-05-14T03:17:19.529466Z",
     "start_time": "2025-05-14T03:17:11.490140Z"
    }
   },
   "outputs": [
    {
     "name": "stdout",
     "output_type": "stream",
     "text": [
      "Agregando nuevo contacto: Liz\n",
      "Contacto guardado: Liz -> 456\n",
      "{'Pedro': 456, 'Nelson': 98, 'Liz': 456}\n"
     ]
    }
   ],
   "source": [
    "# 1. Añadir un contacto: Crear un nuevo registro en la agenda (nombre, telefono).\n",
    "def add_contact(contacts: dict) -> None:\n",
    "    key = input(\"Entry the name of the contact you want to add: \")\n",
    "    value = int(input(\"Entry the value of the contact you want to add: \"))\n",
    "\n",
    "    if key in contacts:\n",
    "        print(f\"El contacto '{key}' ya existe. Será actualizado.\")\n",
    "    else:\n",
    "        print(f\"Agregando nuevo contacto: {key}\")\n",
    "\n",
    "    contact_list[key] = value\n",
    "\n",
    "    print(f\"Contacto guardado: {key} -> {value}\")\n",
    "    print(contact_list)\n",
    "\n",
    "# Test\n",
    "add_contact(contact_list)"
   ]
  },
  {
   "cell_type": "code",
   "execution_count": 30,
   "id": "1662f56e5ec29c83",
   "metadata": {
    "ExecuteTime": {
     "end_time": "2025-05-14T03:03:08.461988Z",
     "start_time": "2025-05-14T03:03:04.177777Z"
    }
   },
   "outputs": [
    {
     "name": "stdout",
     "output_type": "stream",
     "text": [
      "Contacto encontrado: Pedro : 123\n"
     ]
    }
   ],
   "source": [
    "# 2. Buscar un contacto: Buscar un contacto por nombre y mostrar su teléfono, o un mensaje de error si no lo encuentra.\n",
    "def search_contact(contacts: dict):\n",
    "    key = input(\"Ingrese el nombre del contacto: \")\n",
    "\n",
    "    if key in contacts:\n",
    "        print(f\"Contacto encontrado: {key} : {contacts[key]}\")\n",
    "    else:\n",
    "        print(\"Contacto no encontrado\")\n",
    "\n",
    "search_contact(contact_list)"
   ]
  },
  {
   "cell_type": "code",
   "execution_count": 44,
   "id": "e1313b7bb2ade442",
   "metadata": {
    "ExecuteTime": {
     "end_time": "2025-05-14T03:15:30.250169Z",
     "start_time": "2025-05-14T03:15:20.163118Z"
    }
   },
   "outputs": [
    {
     "name": "stdout",
     "output_type": "stream",
     "text": [
      "{'Pedro': 456, 'Nelson': 98}\n"
     ]
    }
   ],
   "source": [
    "# 3. Editar un contacto: Modificar teléfono de un contacto existente.\n",
    "def modify_number(contacts: dict) -> None:\n",
    "    key = input(\"Entry the name of the contact you want to modify: \")\n",
    "\n",
    "    if key in contacts:\n",
    "        value = int(input(\"Entry the value of the contact you want to modify: \"))\n",
    "        contacts[key] = value\n",
    "        print(contacts)\n",
    "    else:\n",
    "        print(\"Contacto no encontrado\")\n",
    "\n",
    "# Test\n",
    "modify_number(contact_list)"
   ]
  },
  {
   "cell_type": "code",
   "execution_count": 48,
   "id": "e2adeb601d033797",
   "metadata": {
    "ExecuteTime": {
     "end_time": "2025-05-14T03:18:31.495417Z",
     "start_time": "2025-05-14T03:18:26.461113Z"
    }
   },
   "outputs": [
    {
     "name": "stdout",
     "output_type": "stream",
     "text": [
      "{'Pedro': 456}\n"
     ]
    }
   ],
   "source": [
    "# 4. Eliminar un contacto: Eliminar un contacto de la agenda (investiga los métodos disponibles para lograrlo). \\n\"\n",
    "def delete_contact(contacts: dict) -> None:\n",
    "    key = input(\"Entry the name of the contact you want to delete: \")\n",
    "\n",
    "    if key in contacts:\n",
    "        del contacts[key]\n",
    "        print(contacts)\n",
    "    else:\n",
    "        print(\"Contacto no encontrado\")\n",
    "\n",
    "# Test\n",
    "delete_contact(contact_list)"
   ]
  },
  {
   "cell_type": "code",
   "execution_count": 2,
   "id": "f7729dac",
   "metadata": {},
   "outputs": [
    {
     "name": "stdout",
     "output_type": "stream",
     "text": [
      "nombre: Juan\n",
      "apellido: Pérez\n",
      "edad: 30\n",
      "telefono: 123456789\n",
      "Fin del diccionario\n"
     ]
    }
   ],
   "source": [
    "diccionary = {\n",
    "    \"nombre\": \"Juan\",\n",
    "    \"apellido\": \"Pérez\",\n",
    "    \"edad\": 30,\n",
    "    \"telefono\": 123456789\n",
    "}\n",
    "def print_dict(d: dict) -> None:\n",
    "    for key, value in d.items():\n",
    "        print(f\"{key}: {value}\")\n",
    "    print(\"Fin del diccionario\")\n",
    "\n",
    "print_dict(diccionary) "
   ]
  },
  {
   "cell_type": "code",
   "execution_count": 42,
   "id": "45fbcf91",
   "metadata": {
    "ExecuteTime": {
     "end_time": "2025-05-14T03:14:37.575048Z",
     "start_time": "2025-05-14T03:13:47.855334Z"
    }
   },
   "outputs": [
    {
     "name": "stdout",
     "output_type": "stream",
     "text": [
      "Good Bye!\n"
     ]
    }
   ],
   "source": [
    "def menu() -> int:\n",
    "    return int(input(\n",
    "        \"\\nSeleccione una opción:\\n\"\n",
    "        \"1. Añadir un contacto\\n\"\n",
    "        \"2. Buscar un contacto\\n\"\n",
    "        \"3. Editar un contacto\\n\"\n",
    "        \"4. Eliminar un contacto\\n\"\n",
    "        \"5. Mostrar todos los contactos\\n\"\n",
    "        \"6. Salir\\n\"\n",
    "        \"Opción: \"\n",
    "    ))\n",
    "\n",
    "def select(choice: int):\n",
    "    if choice == 1:\n",
    "        add_contact(contact_list)\n",
    "    elif choice == 2:\n",
    "        search_contact(contact_list)\n",
    "    elif choice == 3:\n",
    "        modify_number(contact_list)\n",
    "    elif choice == 4:\n",
    "        delete_contact(contact_list)\n",
    "    elif choice == 5:\n",
    "        print(f\"Contactos: {contact_list}\")\n",
    "    elif choice == 6:\n",
    "        print(\"Good Bye!\")\n",
    "        return False  # Marca fin del programa\n",
    "    else:\n",
    "        print(\"Opción inválida.\")\n",
    "    return True\n",
    "\n",
    "# Begin of program\n",
    "def main():\n",
    "    run = True\n",
    "    while run:\n",
    "        try:\n",
    "            option = menu()\n",
    "            run = select(option)\n",
    "        except ValueError:\n",
    "            print(\"Debe ingresar un número entero.\")\n",
    "\n",
    "main()"
   ]
  },
  {
   "cell_type": "markdown",
   "id": "d73293f2",
   "metadata": {},
   "source": []
  }
 ],
 "metadata": {
  "kernelspec": {
   "display_name": "Python 3",
   "language": "python",
   "name": "python3"
  },
  "language_info": {
   "codemirror_mode": {
    "name": "ipython",
    "version": 3
   },
   "file_extension": ".py",
   "mimetype": "text/x-python",
   "name": "python",
   "nbconvert_exporter": "python",
   "pygments_lexer": "ipython3",
   "version": "3.13.3"
  }
 },
 "nbformat": 4,
 "nbformat_minor": 5
}
