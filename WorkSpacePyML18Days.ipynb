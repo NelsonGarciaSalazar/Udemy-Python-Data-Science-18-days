{
 "cells": [
  {
   "cell_type": "code",
   "id": "ad723f66",
   "metadata": {},
   "source": [
    "frase = \"Python es divertido\"\n",
    "frase_modificada = str.replace(frase, \"divertido\", \"genial\")\n",
    "frase_modificada_2 = frase.replace(\"divertido\", \"genial\")\n",
    "print(frase_modificada)\n",
    "print(frase_modificada_2)"
   ],
   "outputs": [],
   "execution_count": null
  },
  {
   "cell_type": "code",
   "id": "3e72fa39",
   "metadata": {},
   "source": [
    "palabra = \"aventura\"\n",
    "print(palabra[1:6:2].upper())"
   ],
   "outputs": [],
   "execution_count": null
  },
  {
   "cell_type": "code",
   "id": "66a3c5d3",
   "metadata": {},
   "source": [
    "palabra = \" banana \"\n",
    "type(palabra)"
   ],
   "outputs": [],
   "execution_count": null
  },
  {
   "cell_type": "code",
   "id": "d3f000d4",
   "metadata": {},
   "source": [
    "dir(palabra)"
   ],
   "outputs": [],
   "execution_count": null
  },
  {
   "cell_type": "code",
   "id": "d6ef66c6",
   "metadata": {},
   "source": [
    "help(palabra.count)"
   ],
   "outputs": [],
   "execution_count": null
  },
  {
   "cell_type": "code",
   "id": "c326e95b",
   "metadata": {},
   "source": [
    "palabra.count(\"a\")"
   ],
   "outputs": [],
   "execution_count": null
  },
  {
   "metadata": {},
   "cell_type": "code",
   "source": "print(palabra.upper())",
   "id": "4b43d5c369fa9423",
   "outputs": [],
   "execution_count": null
  },
  {
   "cell_type": "code",
   "id": "9f16c8a4",
   "metadata": {},
   "source": [
    "string1 = \"aprender\"\n",
    "string2 = \"python\"\n",
    "resultado = string1.capitalize() + \" \" + string2.capitalize()\n",
    "print(resultado)"
   ],
   "outputs": [],
   "execution_count": null
  },
  {
   "metadata": {},
   "cell_type": "code",
   "source": [
    "# Para saber que hace un método me ubico con el mouse encima del método\n",
    "palabra.strip()\n",
    "palabra"
   ],
   "id": "dbd70245",
   "outputs": [],
   "execution_count": null
  },
  {
   "metadata": {},
   "cell_type": "code",
   "source": [
    "frase = \" estudiar Python es una gran decision \"\n",
    "frase.strip().split(\" \") # return a list [...]"
   ],
   "id": "d9eaf413",
   "outputs": [],
   "execution_count": null
  },
  {
   "metadata": {},
   "cell_type": "code",
   "source": [
    "palabra = \"Python es un gran lenguaje de programación para ingenieros de datos\"\n",
    "letra = \"a\"\n",
    "print(palabra.count(letra))\n",
    "\n",
    "lista = palabra.split()\n",
    "print(len(lista))\n"
   ],
   "id": "4abd6b20",
   "outputs": [],
   "execution_count": null
  },
  {
   "metadata": {},
   "cell_type": "code",
   "source": [
    "frase = \" Python es un gran lenguaje de programación para ingenieros de datos \"\n",
    "palabras_en_frase = len(frase.strip().split(\" \"))\n",
    "print(palabras_en_frase)"
   ],
   "id": "8ec5ad7b",
   "outputs": [],
   "execution_count": null
  },
  {
   "metadata": {},
   "cell_type": "code",
   "source": [
    "nombre = input(\"Escribe tu nombre\")\n",
    "print(nombre)"
   ],
   "id": "3a016e65dcb80db2",
   "outputs": [],
   "execution_count": null
  },
  {
   "metadata": {},
   "cell_type": "code",
   "source": [
    "km = float(input(\"Introduce la cantidad de Kilómetros recorridos:\"))\n",
    "millas = km * 0.621371\n",
    "print(millas)"
   ],
   "id": "7321b75ca86392bb",
   "outputs": [],
   "execution_count": null
  },
  {
   "metadata": {},
   "cell_type": "markdown",
   "source": [
    "#### Listas [...]\n",
    "Son mutables - No tiene orden - Pueden recibir cualquier tipo de dato"
   ],
   "id": "437ea399ec48ec11"
  },
  {
   "metadata": {},
   "cell_type": "code",
   "source": [
    "numbers = [1, 2, 3, 4, 5]\n",
    "print(numbers)\n",
    "\n",
    "numbers.append(6)\n",
    "print(numbers)\n",
    "\n",
    "del numbers[0]\n",
    "print(numbers)\n",
    "\n",
    "numbers.pop(0)\n",
    "print(numbers)\n",
    "\n",
    "numbers.insert(1, 7)\n",
    "print(numbers)\n",
    "\n",
    "numbers.sort()\n",
    "print(numbers)"
   ],
   "id": "d8f85bcec7a0455d",
   "outputs": [],
   "execution_count": null
  },
  {
   "metadata": {},
   "cell_type": "code",
   "source": [
    "# Operations\n",
    "lista1 = [1, 2, 3]\n",
    "lista2 = [4, 5, 6]\n",
    "\n",
    "combinada = lista1 + lista2\n",
    "print(combinada)\n",
    "\n",
    "repetida = lista1 * 3\n",
    "print(repetida)\n",
    "\n",
    "sublista = combinada[1:4]\n",
    "print(sublista)"
   ],
   "id": "7a4a3c4379d51f4c",
   "outputs": [],
   "execution_count": null
  },
  {
   "metadata": {},
   "cell_type": "markdown",
   "source": [
    "#### Tuplas(...)\n",
    "Ordenas - No modificables - Solo un tipo de dato"
   ],
   "id": "ec615b160d295135"
  },
  {
   "metadata": {},
   "cell_type": "code",
   "source": [
    "mi_primera_tupla = (\"Nelson\", 2, 2.45)\n",
    "print(mi_primera_tupla[1])\n"
   ],
   "id": "bc6714e58ab98465",
   "outputs": [],
   "execution_count": null
  },
  {
   "metadata": {},
   "cell_type": "code",
   "source": [
    "datos_personales = (\"Maria\", \"Perez\", 35, \"Ingeniera\")\n",
    "nombre = datos_personales[0]\n",
    "profesion = datos_personales[-1]\n",
    "datos_personales = nombre + \" es \" + profesion\n",
    "print(datos_personales)\n"
   ],
   "id": "ac3654d7c83318a1",
   "outputs": [],
   "execution_count": null
  },
  {
   "metadata": {},
   "cell_type": "code",
   "source": [
    "info_ciudades = ((\"Buenos Aires\", 3000000, \"Argentina\"), (\"Madrid\", 3200000, \"España\"), (\"Tokio\", 13929286, \"Japón\"))\n",
    "print(f\"La ciudad de {info_ciudades[0][0]} en {info_ciudades[0][-1]} tiene una población de {info_ciudades[0][1]} habitantes\")\n",
    "print(f\"La ciudad de {info_ciudades[1][0]} en {info_ciudades[1][-1]} tiene una población de {info_ciudades[1][1]} habitantes\")\n",
    "print(f\"La ciudad de {info_ciudades[2][0]} en {info_ciudades[2][-1]} tiene una población de {info_ciudades[2][1]} habitantes\")"
   ],
   "id": "39d180ea9b94fa47",
   "outputs": [],
   "execution_count": null
  },
  {
   "metadata": {},
   "cell_type": "markdown",
   "source": [
    "#### Diccionarios {...}\n",
    "Clave: Valor - No se puede repetir la clave - Ordenada"
   ],
   "id": "2f8b209b5c7cc44a"
  },
  {
   "metadata": {},
   "cell_type": "code",
   "source": [
    "edades = {\"Juan\": 28, \"Elena\": 32, \"Marcos\": 17}\n",
    "print(edades[\"Elena\"])\n",
    "\n",
    "edades[\"Juan\"] = 29\n",
    "print(edades[\"Juan\"])\n",
    "\n",
    "edades[\"Luisa\"] = 25\n",
    "print(edades)"
   ],
   "id": "2b0e6070d41638bc",
   "outputs": [],
   "execution_count": null
  },
  {
   "metadata": {},
   "cell_type": "code",
   "source": [
    "productos = {\"manzana\": 0.40, \"banana\": 0.50, \"cereza\": 0.80}\n",
    "keys = productos.keys()\n",
    "print(keys)\n",
    "\n",
    "values = productos.values()\n",
    "print(values)\n",
    "\n",
    "productos[\"naranja\"] = 0.60\n",
    "print(productos)\n",
    "\n",
    "productos.update({\"banana\": 0.75})\n",
    "print(productos)\n",
    "\n",
    "print(productos.keys(), productos.values())"
   ],
   "id": "cf59efa9f6d00cdd",
   "outputs": [],
   "execution_count": null
  },
  {
   "metadata": {},
   "cell_type": "markdown",
   "source": "#### Estructura IF / ElSE / ELIF",
   "id": "3ff506a20ea00c48"
  },
  {
   "metadata": {
    "ExecuteTime": {
     "end_time": "2025-05-13T21:09:16.246616Z",
     "start_time": "2025-05-13T21:09:16.234797Z"
    }
   },
   "cell_type": "code",
   "source": [
    "edad = 44\n",
    "if edad > 18:\n",
    "    print(f\"Tienes {edad} años. Eres mayor de edad\")"
   ],
   "id": "b57df1c440c66c81",
   "outputs": [
    {
     "name": "stdout",
     "output_type": "stream",
     "text": [
      "Tienes 44 años. Eres mayor de edad\n"
     ]
    }
   ],
   "execution_count": 41
  },
  {
   "metadata": {
    "ExecuteTime": {
     "end_time": "2025-05-13T21:16:39.001418Z",
     "start_time": "2025-05-13T21:16:38.998571Z"
    }
   },
   "cell_type": "code",
   "source": [
    "amigos = [\"Juan\", \"Ana\", \"Laura\"]\n",
    "nombre = 'Juan'\n",
    "\n",
    "if nombre in amigos:\n",
    "    print(f\"{nombre} está en mi grupo de amigos\")"
   ],
   "id": "59497b67b34329cc",
   "outputs": [
    {
     "name": "stdout",
     "output_type": "stream",
     "text": [
      "Juan está en mi grupo de amigos\n"
     ]
    }
   ],
   "execution_count": 42
  },
  {
   "metadata": {
    "ExecuteTime": {
     "end_time": "2025-05-13T21:24:32.507414Z",
     "start_time": "2025-05-13T21:24:32.504622Z"
    }
   },
   "cell_type": "code",
   "source": [
    "edad = 44\n",
    "\n",
    "if edad >= 18:\n",
    "    print(f\"Tienes {edad} años, eres mayor de edad\")\n",
    "else:\n",
    "    print(f\"Tienes {edad} años, eres menor de edad\")"
   ],
   "id": "9b9bfeb8bf245808",
   "outputs": [
    {
     "name": "stdout",
     "output_type": "stream",
     "text": [
      "Tienes 44 años, eres mayor de edad\n"
     ]
    }
   ],
   "execution_count": 44
  },
  {
   "metadata": {
    "ExecuteTime": {
     "end_time": "2025-05-13T21:38:14.503834Z",
     "start_time": "2025-05-13T21:38:14.500655Z"
    }
   },
   "cell_type": "code",
   "source": [
    "calificacion = -1\n",
    "\n",
    "if 0 <= calificacion < 5:\n",
    "    print(\"Insuficiente\")\n",
    "elif 5 <= calificacion < 6:\n",
    "    print(\"Aprobado\")\n",
    "elif 6 <= calificacion < 9:\n",
    "    print(\"Notable\")\n",
    "elif 9 <= calificacion <= 10:\n",
    "    print(\"Sobresaliente\")\n",
    "else:\n",
    "    print(\"Calificación no válida\")"
   ],
   "id": "7d8089b6343c4285",
   "outputs": [
    {
     "name": "stdout",
     "output_type": "stream",
     "text": [
      "Calificación no válida\n"
     ]
    }
   ],
   "execution_count": 58
  },
  {
   "metadata": {
    "ExecuteTime": {
     "end_time": "2025-05-13T21:57:31.379007Z",
     "start_time": "2025-05-13T21:57:31.375672Z"
    }
   },
   "cell_type": "code",
   "source": [
    "x1 = 4\n",
    "x2 = 2\n",
    "x3 = 3\n",
    "\n",
    "if (x1 > x2) and (x1 > x3) and (x2 > x3):\n",
    "    print(x3, x2, x1)\n",
    "elif (x2 > x1) and (x2 > x3) and (x3 > x1):\n",
    "    print(x3, x1, x2)\n",
    "elif (x3 > x1) and (x3 > x2) and (x2 > x1):\n",
    "    print(x1, x2, x3)\n",
    "else:\n",
    "    print(x2, x3, x1)"
   ],
   "id": "6ddb650610548e39",
   "outputs": [
    {
     "name": "stdout",
     "output_type": "stream",
     "text": [
      "2 3 4\n"
     ]
    }
   ],
   "execution_count": 65
  },
  {
   "metadata": {},
   "cell_type": "code",
   "outputs": [],
   "execution_count": null,
   "source": "",
   "id": "ce4ebb00a63613ab"
  }
 ],
 "metadata": {
  "kernelspec": {
   "display_name": "Python 3",
   "language": "python",
   "name": "python3"
  },
  "language_info": {
   "codemirror_mode": {
    "name": "ipython",
    "version": 3
   },
   "file_extension": ".py",
   "mimetype": "text/x-python",
   "name": "python",
   "nbconvert_exporter": "python",
   "pygments_lexer": "ipython3",
   "version": "3.13.3"
  }
 },
 "nbformat": 4,
 "nbformat_minor": 5
}
