{
 "cells": [
  {
   "cell_type": "code",
   "id": "ad723f66",
   "metadata": {
    "ExecuteTime": {
     "end_time": "2025-05-13T02:34:47.611626Z",
     "start_time": "2025-05-13T02:34:47.566640Z"
    }
   },
   "source": [
    "frase = \"Python es divertido\"\n",
    "frase_modificada = str.replace(frase, \"divertido\", \"genial\")\n",
    "frase_modificada_2 = frase.replace(\"divertido\", \"genial\")\n",
    "print(frase_modificada)\n",
    "print(frase_modificada_2)"
   ],
   "outputs": [
    {
     "name": "stdout",
     "output_type": "stream",
     "text": [
      "Python es genial\n",
      "Python es genial\n"
     ]
    }
   ],
   "execution_count": 23
  },
  {
   "cell_type": "code",
   "id": "3e72fa39",
   "metadata": {
    "ExecuteTime": {
     "end_time": "2025-05-13T02:27:49.771884Z",
     "start_time": "2025-05-13T02:27:49.659499Z"
    }
   },
   "source": [
    "palabra = \"aventura\"\n",
    "print(palabra[1:6:2].upper())"
   ],
   "outputs": [
    {
     "name": "stdout",
     "output_type": "stream",
     "text": [
      "VNU\n"
     ]
    }
   ],
   "execution_count": 14
  },
  {
   "cell_type": "code",
   "id": "66a3c5d3",
   "metadata": {
    "ExecuteTime": {
     "end_time": "2025-05-13T02:27:51.415376Z",
     "start_time": "2025-05-13T02:27:51.282763Z"
    }
   },
   "source": [
    "palabra = \" banana \"\n",
    "type(palabra)"
   ],
   "outputs": [
    {
     "data": {
      "text/plain": [
       "str"
      ]
     },
     "execution_count": 15,
     "metadata": {},
     "output_type": "execute_result"
    }
   ],
   "execution_count": 15
  },
  {
   "cell_type": "code",
   "id": "d3f000d4",
   "metadata": {},
   "source": [
    "dir(palabra)"
   ],
   "outputs": [],
   "execution_count": null
  },
  {
   "cell_type": "code",
   "id": "d6ef66c6",
   "metadata": {},
   "source": [
    "help(palabra.count)"
   ],
   "outputs": [],
   "execution_count": null
  },
  {
   "cell_type": "code",
   "id": "c326e95b",
   "metadata": {
    "ExecuteTime": {
     "end_time": "2025-05-13T02:25:56.169798Z",
     "start_time": "2025-05-13T02:25:56.042967Z"
    }
   },
   "source": [
    "palabra.count(\"a\")"
   ],
   "outputs": [
    {
     "data": {
      "text/plain": [
       "7"
      ]
     },
     "execution_count": 12,
     "metadata": {},
     "output_type": "execute_result"
    }
   ],
   "execution_count": 12
  },
  {
   "metadata": {
    "ExecuteTime": {
     "end_time": "2025-05-13T02:29:38.400702Z",
     "start_time": "2025-05-13T02:29:38.271622Z"
    }
   },
   "cell_type": "code",
   "source": "print(palabra.upper())",
   "id": "4b43d5c369fa9423",
   "outputs": [
    {
     "name": "stdout",
     "output_type": "stream",
     "text": [
      " BANANA \n"
     ]
    }
   ],
   "execution_count": 19
  },
  {
   "cell_type": "code",
   "id": "9f16c8a4",
   "metadata": {
    "ExecuteTime": {
     "end_time": "2025-05-13T02:32:03.410401Z",
     "start_time": "2025-05-13T02:32:03.360702Z"
    }
   },
   "source": [
    "string1 = \"aprender\"\n",
    "string2 = \"python\"\n",
    "resultado = string1.capitalize() + \" \" + string2.capitalize()\n",
    "print(resultado)"
   ],
   "outputs": [
    {
     "name": "stdout",
     "output_type": "stream",
     "text": [
      "Aprender Python\n"
     ]
    }
   ],
   "execution_count": 22
  },
  {
   "metadata": {},
   "cell_type": "code",
   "outputs": [
    {
     "data": {
      "text/plain": [
       "'Python es un gran lenguaje de programacion para ingenieros de datos'"
      ]
     },
     "execution_count": 13,
     "metadata": {},
     "output_type": "execute_result"
    }
   ],
   "execution_count": 13,
   "source": [
    "# Para saber que hace un método me ubico con el mouse encima del método\n",
    "palabra.strip()\n",
    "palabra"
   ],
   "id": "dbd70245"
  },
  {
   "metadata": {},
   "cell_type": "code",
   "outputs": [],
   "execution_count": null,
   "source": [
    "frase = \" estudiar Python es una gran decision \"\n",
    "frase.strip().split(\" \") # return a list [...]"
   ],
   "id": "d9eaf413"
  },
  {
   "metadata": {},
   "cell_type": "code",
   "outputs": [],
   "execution_count": null,
   "source": [
    "palabra = \"Python es un gran lenguaje de programacion para ingenieros de datos\"\n",
    "letra = \"a\"\n",
    "print(palabra.count(letra))\n",
    "\n",
    "lista = palabra.split()\n",
    "print(len(lista))\n"
   ],
   "id": "4abd6b20"
  },
  {
   "metadata": {},
   "cell_type": "code",
   "outputs": [],
   "execution_count": null,
   "source": [
    "frase = \" Python es un gran lenguaje de programacion para ingenieros de datos \"\n",
    "palabras_en_frase = len(frase.strip().split(\" \"))\n",
    "print(palabras_en_frase)"
   ],
   "id": "8ec5ad7b"
  },
  {
   "metadata": {
    "ExecuteTime": {
     "end_time": "2025-05-13T02:49:56.327264Z",
     "start_time": "2025-05-13T02:49:50.166935Z"
    }
   },
   "cell_type": "code",
   "source": [
    "nombre = input(\"Escribe tu nombre\")\n",
    "print(nombre)"
   ],
   "id": "3a016e65dcb80db2",
   "outputs": [
    {
     "name": "stdout",
     "output_type": "stream",
     "text": [
      "Nelson\n"
     ]
    }
   ],
   "execution_count": 24
  },
  {
   "metadata": {
    "ExecuteTime": {
     "end_time": "2025-05-13T02:55:32.782853Z",
     "start_time": "2025-05-13T02:55:16.183784Z"
    }
   },
   "cell_type": "code",
   "source": [
    "km = float(input(\"Introduce la cantidad de Kilómetros recorridos:\"))\n",
    "millas = km * 0.621371\n",
    "print(millas)"
   ],
   "id": "7321b75ca86392bb",
   "outputs": [
    {
     "name": "stdout",
     "output_type": "stream",
     "text": [
      "3.86101919641\n"
     ]
    }
   ],
   "execution_count": 25
  },
  {
   "metadata": {},
   "cell_type": "code",
   "outputs": [],
   "execution_count": null,
   "source": "",
   "id": "a522bf0b61a8e17e"
  }
 ],
 "metadata": {
  "kernelspec": {
   "display_name": "Python 3",
   "language": "python",
   "name": "python3"
  },
  "language_info": {
   "codemirror_mode": {
    "name": "ipython",
    "version": 3
   },
   "file_extension": ".py",
   "mimetype": "text/x-python",
   "name": "python",
   "nbconvert_exporter": "python",
   "pygments_lexer": "ipython3",
   "version": "3.13.3"
  }
 },
 "nbformat": 4,
 "nbformat_minor": 5
}
